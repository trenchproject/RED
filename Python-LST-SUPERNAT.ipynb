{
 "cells": [
  {
   "cell_type": "code",
   "execution_count": 69,
   "metadata": {},
   "outputs": [
    {
     "data": {
      "text/plain": [
       "{'CdmRemote': 'http://thredds.ucar.edu/thredds/cdmremote/satellite/SFC-T/SUPER-NATIONAL_1km/current/SUPER-NATIONAL_1km_SFC-T_20170420_0600.gini',\n",
       " 'HTTPServer': 'http://thredds.ucar.edu/thredds/fileServer/satellite/SFC-T/SUPER-NATIONAL_1km/current/SUPER-NATIONAL_1km_SFC-T_20170420_0600.gini',\n",
       " 'ISO': 'http://thredds.ucar.edu/thredds/iso/satellite/SFC-T/SUPER-NATIONAL_1km/current/SUPER-NATIONAL_1km_SFC-T_20170420_0600.gini',\n",
       " 'NCML': 'http://thredds.ucar.edu/thredds/ncml/satellite/SFC-T/SUPER-NATIONAL_1km/current/SUPER-NATIONAL_1km_SFC-T_20170420_0600.gini',\n",
       " 'NetcdfSubset': 'http://thredds.ucar.edu/thredds/ncss/satellite/SFC-T/SUPER-NATIONAL_1km/current/SUPER-NATIONAL_1km_SFC-T_20170420_0600.gini',\n",
       " 'OPENDAP': 'http://thredds.ucar.edu/thredds/dodsC/satellite/SFC-T/SUPER-NATIONAL_1km/current/SUPER-NATIONAL_1km_SFC-T_20170420_0600.gini',\n",
       " 'UDDC': 'http://thredds.ucar.edu/thredds/uddc/satellite/SFC-T/SUPER-NATIONAL_1km/current/SUPER-NATIONAL_1km_SFC-T_20170420_0600.gini',\n",
       " 'WCS': 'http://thredds.ucar.edu/thredds/wcs/satellite/SFC-T/SUPER-NATIONAL_1km/current/SUPER-NATIONAL_1km_SFC-T_20170420_0600.gini',\n",
       " 'WMS': 'http://thredds.ucar.edu/thredds/wms/satellite/SFC-T/SUPER-NATIONAL_1km/current/SUPER-NATIONAL_1km_SFC-T_20170420_0600.gini'}"
      ]
     },
     "execution_count": 69,
     "metadata": {},
     "output_type": "execute_result"
    }
   ],
   "source": [
    "#get the datasets - \n",
    "# Imports\n",
    "from urllib.request import urlopen\n",
    "\n",
    "from metpy.io.gini import GiniFile\n",
    "from siphon.catalog import TDSCatalog\n",
    "\n",
    "# Grab the catalog and then the dataset for the most recent file\n",
    "cat = TDSCatalog('http://thredds.ucar.edu/thredds/catalog/satellite/SFC-T/SUPER-NATIONAL_1km/current/catalog.xml')\n",
    "dataset_name = sorted(cat.datasets.keys())[-1]\n",
    "dataset = cat.datasets[dataset_name]\n",
    "supernat_latest= dataset.access_urls['OPENDAP']\n",
    "dataset.access_urls"
   ]
  },
  {
   "cell_type": "code",
   "execution_count": 31,
   "metadata": {},
   "outputs": [
    {
     "data": {
      "text/plain": [
       "OrderedDict([('time', <class 'netCDF4._netCDF4.Variable'>\n",
       "              float64 time(time)\n",
       "                  long_name: time since base date\n",
       "                  _CoordinateAxisType: Time\n",
       "                  units: msecs since 1970-01-01T00:00:00Z\n",
       "              unlimited dimensions: \n",
       "              current shape = (1,)\n",
       "              filling off), ('x', <class 'netCDF4._netCDF4.Variable'>\n",
       "              float64 x(x)\n",
       "                  long_name: projection x coordinate\n",
       "                  units: km\n",
       "                  _CoordinateAxisType: GeoX\n",
       "              unlimited dimensions: \n",
       "              current shape = (1536,)\n",
       "              filling off), ('y', <class 'netCDF4._netCDF4.Variable'>\n",
       "              float64 y(y)\n",
       "                  long_name: projection y coordinate\n",
       "                  units: km\n",
       "                  _CoordinateAxisType: GeoY\n",
       "              unlimited dimensions: \n",
       "              current shape = (1008,)\n",
       "              filling off), ('Stereographic',\n",
       "              <class 'netCDF4._netCDF4.Variable'>\n",
       "              |S1 Stereographic(maxStrlen64)\n",
       "                  grid_mapping_name: stereographic\n",
       "                  longitude_of_projection_origin: -105.0\n",
       "                  latitude_of_projection_origin: 90.0\n",
       "                  scale_factor_at_projection_origin: 0.933012694093\n",
       "                  earth_radius: 6371229.0\n",
       "                  _CoordinateTransformType: Projection\n",
       "                  _CoordinateAxes: x y \n",
       "              unlimited dimensions: \n",
       "              current shape = (64,)\n",
       "              filling off), ('SFC_T', <class 'netCDF4._netCDF4.Variable'>\n",
       "              int8 SFC_T(time, y, x)\n",
       "                  _Unsigned: true\n",
       "                  long_name: Surface Skin Temperature\n",
       "                  units: N/A\n",
       "                  scale_factor: 1\n",
       "                  add_offset: 0\n",
       "                  _CoordinateAxes: x y time\n",
       "              unlimited dimensions: \n",
       "              current shape = (1, 1008, 1536)\n",
       "              filling off)])"
      ]
     },
     "execution_count": 31,
     "metadata": {},
     "output_type": "execute_result"
    }
   ],
   "source": [
    "#!/usr/bin/env python\n",
    "# Read data from an opendap server\n",
    "import netCDF4\n",
    "# specify an url, - derived product\n",
    "url = supernat_latest\n",
    "# create a dataset object\n",
    "dataset = netCDF4.Dataset(url)\n",
    " \n",
    "# print the variables\n",
    "dataset.variables"
   ]
  },
  {
   "cell_type": "code",
   "execution_count": 32,
   "metadata": {},
   "outputs": [
    {
     "name": "stdout",
     "output_type": "stream",
     "text": [
      "[[[0 0 0 ..., 0 0 0]\n",
      "  [0 0 0 ..., 0 0 0]\n",
      "  [0 0 0 ..., 0 0 0]\n",
      "  ..., \n",
      "  [0 0 0 ..., 0 0 0]\n",
      "  [0 0 0 ..., 0 0 0]\n",
      "  [0 0 0 ..., 0 0 0]]]\n"
     ]
    }
   ],
   "source": [
    "#SFC_T - Surface Temperature\n",
    "print(dataset.variables[\"SFC_T\"][:])"
   ]
  },
  {
   "cell_type": "code",
   "execution_count": 33,
   "metadata": {},
   "outputs": [
    {
     "data": {
      "text/plain": [
       "'km'"
      ]
     },
     "execution_count": 33,
     "metadata": {},
     "output_type": "execute_result"
    }
   ],
   "source": [
    "x = dataset.variables[\"x\"]\n",
    "#variable long name\n",
    "x.getncattr(\"long_name\")\n",
    "# variable units\n",
    "x.getncattr(\"units\")\n",
    "\n",
    "y = dataset.variables[\"y\"]\n",
    "#variable long name\n",
    "y.getncattr(\"long_name\")\n",
    "# variable units\n",
    "y.getncattr(\"units\")"
   ]
  },
  {
   "cell_type": "code",
   "execution_count": 34,
   "metadata": {},
   "outputs": [
    {
     "data": {
      "text/plain": [
       "1008"
      ]
     },
     "execution_count": 34,
     "metadata": {},
     "output_type": "execute_result"
    }
   ],
   "source": [
    "# get dimensions of x's and y's\n",
    "\n",
    "nx = len(x)\n",
    "nx\n",
    "ny = len(y)\n",
    "ny"
   ]
  },
  {
   "cell_type": "code",
   "execution_count": 55,
   "metadata": {
    "collapsed": true
   },
   "outputs": [],
   "source": [
    "#get time\n",
    "# get time\n",
    "time = dataset.variables[\"time\"]\n",
    "tt=time[:][0]"
   ]
  },
  {
   "cell_type": "code",
   "execution_count": 25,
   "metadata": {},
   "outputs": [
    {
     "data": {
      "text/plain": [
       "'msecs since 1970-01-01T00:00:00Z'"
      ]
     },
     "execution_count": 25,
     "metadata": {},
     "output_type": "execute_result"
    }
   ],
   "source": [
    "# variable units\n",
    "time.getncattr(\"units\")"
   ]
  },
  {
   "cell_type": "code",
   "execution_count": 26,
   "metadata": {},
   "outputs": [
    {
     "data": {
      "text/plain": [
       "1"
      ]
     },
     "execution_count": 26,
     "metadata": {},
     "output_type": "execute_result"
    }
   ],
   "source": [
    "len(time)"
   ]
  },
  {
   "cell_type": "code",
   "execution_count": null,
   "metadata": {
    "collapsed": true
   },
   "outputs": [],
   "source": [
    "#only one timestamp as its a snapshot"
   ]
  },
  {
   "cell_type": "code",
   "execution_count": 36,
   "metadata": {},
   "outputs": [
    {
     "data": {
      "text/plain": [
       "1"
      ]
     },
     "execution_count": 36,
     "metadata": {},
     "output_type": "execute_result"
    }
   ],
   "source": [
    "# get surface temperature\n",
    "# SFC_T\n",
    "sfct_array = dataset.variables[\"SFC_T\"]\n",
    "#variable long name\n",
    "sfct_array.getncattr(\"long_name\")\n",
    "# variable units\n",
    "sfct_array.getncattr(\"units\")\n",
    "len(sfct_array)"
   ]
  },
  {
   "cell_type": "code",
   "execution_count": 37,
   "metadata": {},
   "outputs": [
    {
     "data": {
      "text/plain": [
       "array([[[0, 0, 0, ..., 0, 0, 0],\n",
       "        [0, 0, 0, ..., 0, 0, 0],\n",
       "        [0, 0, 0, ..., 0, 0, 0],\n",
       "        ..., \n",
       "        [0, 0, 0, ..., 0, 0, 0],\n",
       "        [0, 0, 0, ..., 0, 0, 0],\n",
       "        [0, 0, 0, ..., 0, 0, 0]]], dtype=int8)"
      ]
     },
     "execution_count": 37,
     "metadata": {},
     "output_type": "execute_result"
    }
   ],
   "source": [
    "sfct_array[:]"
   ]
  },
  {
   "cell_type": "code",
   "execution_count": 65,
   "metadata": {},
   "outputs": [
    {
     "data": {
      "text/plain": [
       "0"
      ]
     },
     "execution_count": 65,
     "metadata": {},
     "output_type": "execute_result"
    }
   ],
   "source": [
    "sfct_array[0,1007,1000]"
   ]
  },
  {
   "cell_type": "code",
   "execution_count": 71,
   "metadata": {},
   "outputs": [
    {
     "name": "stderr",
     "output_type": "stream",
     "text": [
      "WARNING:root:attribute type short not understood.\n",
      "WARNING:root:attribute type short not understood.\n"
     ]
    }
   ],
   "source": [
    "netcdf_latest= dataset.access_urls['NetcdfSubset']\n",
    "from siphon.ncss import NCSS\n",
    "ncss = NCSS(netcdf_latest)"
   ]
  },
  {
   "cell_type": "code",
   "execution_count": 72,
   "metadata": {},
   "outputs": [
    {
     "data": {
      "text/plain": [
       "{'SFC_T'}"
      ]
     },
     "execution_count": 72,
     "metadata": {},
     "output_type": "execute_result"
    }
   ],
   "source": [
    "\n",
    "ncss.variables"
   ]
  },
  {
   "cell_type": "code",
   "execution_count": 79,
   "metadata": {},
   "outputs": [
    {
     "name": "stdout",
     "output_type": "stream",
     "text": [
      "var=SFC_T&time_start=2017-04-20T06%3A00%3A00&time_end=2017-04-20T06%3A00%3A00&longitude=-104.66&latitude=39.85&accept=netcdf\n"
     ]
    }
   ],
   "source": [
    "import numpy as np\n",
    "from datetime import datetime, timedelta\n",
    "# get current date and time\n",
    "now = datetime.utcnow()\n",
    "now = datetime(now.year, now.month, now.day, 6)\n",
    "\n",
    "# define the time range we are interested in\n",
    "start_time = now \n",
    "end_time = now\n",
    "\n",
    "# build the query\n",
    "query = ncss.query()\n",
    "query.lonlat_point(-104.66, 39.85)\n",
    "query.time_range(start_time, end_time)\n",
    "query.variables('SFC_T')\n",
    "query.accept('netcdf')\n",
    "\n",
    "# what does the request url look like?\n",
    "print(query)"
   ]
  },
  {
   "cell_type": "code",
   "execution_count": 80,
   "metadata": {},
   "outputs": [],
   "source": [
    "data = ncss.get_data(query)"
   ]
  },
  {
   "cell_type": "code",
   "execution_count": 81,
   "metadata": {},
   "outputs": [
    {
     "name": "stdout",
     "output_type": "stream",
     "text": [
      "['latitude', 'longitude', 'station_id', 'station_description', 'time', 'stationIndex', 'SFC_T']\n"
     ]
    }
   ],
   "source": [
    "print(list(data.variables))"
   ]
  },
  {
   "cell_type": "code",
   "execution_count": 82,
   "metadata": {
    "collapsed": true
   },
   "outputs": [],
   "source": [
    "time = [datetime.fromtimestamp(t) for t in data['time']]"
   ]
  },
  {
   "cell_type": "code",
   "execution_count": 83,
   "metadata": {},
   "outputs": [
    {
     "data": {
      "text/plain": [
       "[datetime.datetime(49270, 10, 7, 0, 0)]"
      ]
     },
     "execution_count": 83,
     "metadata": {},
     "output_type": "execute_result"
    }
   ],
   "source": [
    "time"
   ]
  },
  {
   "cell_type": "code",
   "execution_count": 84,
   "metadata": {},
   "outputs": [
    {
     "data": {
      "text/plain": [
       "<class 'netCDF4._netCDF4.Variable'>\n",
       "int8 SFC_T(obs)\n",
       "    units: N/A\n",
       "    long_name: Surface Skin Temperature\n",
       "    coordinates: latitude longitude time\n",
       "unlimited dimensions: obs\n",
       "current shape = (1,)\n",
       "filling off"
      ]
     },
     "execution_count": 84,
     "metadata": {},
     "output_type": "execute_result"
    }
   ],
   "source": [
    "data['SFC_T']"
   ]
  },
  {
   "cell_type": "code",
   "execution_count": 88,
   "metadata": {},
   "outputs": [
    {
     "data": {
      "text/plain": [
       "0"
      ]
     },
     "execution_count": 88,
     "metadata": {},
     "output_type": "execute_result"
    }
   ],
   "source": [
    "data['SFC_T'][0]"
   ]
  },
  {
   "cell_type": "code",
   "execution_count": 89,
   "metadata": {},
   "outputs": [
    {
     "name": "stdout",
     "output_type": "stream",
     "text": [
      "b'GridPoint'\n"
     ]
    }
   ],
   "source": [
    "station_id = data['station_id'][:].tostring()\n",
    "print(station_id)"
   ]
  },
  {
   "cell_type": "code",
   "execution_count": 90,
   "metadata": {
    "collapsed": true
   },
   "outputs": [],
   "source": [
    "sfct = data.variables['SFC_T'][:]"
   ]
  },
  {
   "cell_type": "code",
   "execution_count": 93,
   "metadata": {},
   "outputs": [
    {
     "data": {
      "text/plain": [
       "0"
      ]
     },
     "execution_count": 93,
     "metadata": {},
     "output_type": "execute_result"
    }
   ],
   "source": [
    "sfct[:][0]"
   ]
  },
  {
   "cell_type": "code",
   "execution_count": null,
   "metadata": {
    "collapsed": true
   },
   "outputs": [],
   "source": []
  }
 ],
 "metadata": {
  "kernelspec": {
   "display_name": "Python 3",
   "language": "python",
   "name": "python3"
  },
  "language_info": {
   "codemirror_mode": {
    "name": "ipython",
    "version": 3
   },
   "file_extension": ".py",
   "mimetype": "text/x-python",
   "name": "python",
   "nbconvert_exporter": "python",
   "pygments_lexer": "ipython3",
   "version": "3.6.0"
  }
 },
 "nbformat": 4,
 "nbformat_minor": 2
}
