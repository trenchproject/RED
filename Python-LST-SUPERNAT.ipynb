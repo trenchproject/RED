{
 "cells": [
  {
   "cell_type": "code",
   "execution_count": 9,
   "metadata": {
    "collapsed": true
   },
   "outputs": [],
   "source": [
    "#get the datasets - \n",
    "# Imports\n",
    "from urllib.request import urlopen\n",
    "\n",
    "from metpy.io.gini import GiniFile\n",
    "from siphon.catalog import TDSCatalog\n",
    "\n",
    "# Grab the catalog and then the dataset for the most recent file\n",
    "cat = TDSCatalog('http://thredds.ucar.edu/thredds/catalog/satellite/SFC-T/SUPER-NATIONAL_1km/current/catalog.xml')\n",
    "dataset_name = sorted(cat.datasets.keys())[-1]\n",
    "dataset = cat.datasets[dataset_name]\n",
    "supernat_latest= dataset.access_urls['OPENDAP']"
   ]
  },
  {
   "cell_type": "code",
   "execution_count": 11,
   "metadata": {},
   "outputs": [
    {
     "data": {
      "text/plain": [
       "OrderedDict([('time', <class 'netCDF4._netCDF4.Variable'>\n",
       "              float64 time(time)\n",
       "                  long_name: time since base date\n",
       "                  _CoordinateAxisType: Time\n",
       "                  units: msecs since 1970-01-01T00:00:00Z\n",
       "              unlimited dimensions: \n",
       "              current shape = (1,)\n",
       "              filling off), ('x', <class 'netCDF4._netCDF4.Variable'>\n",
       "              float64 x(x)\n",
       "                  long_name: projection x coordinate\n",
       "                  units: km\n",
       "                  _CoordinateAxisType: GeoX\n",
       "              unlimited dimensions: \n",
       "              current shape = (1536,)\n",
       "              filling off), ('y', <class 'netCDF4._netCDF4.Variable'>\n",
       "              float64 y(y)\n",
       "                  long_name: projection y coordinate\n",
       "                  units: km\n",
       "                  _CoordinateAxisType: GeoY\n",
       "              unlimited dimensions: \n",
       "              current shape = (1008,)\n",
       "              filling off), ('Stereographic',\n",
       "              <class 'netCDF4._netCDF4.Variable'>\n",
       "              |S1 Stereographic(maxStrlen64)\n",
       "                  grid_mapping_name: stereographic\n",
       "                  longitude_of_projection_origin: -105.0\n",
       "                  latitude_of_projection_origin: 90.0\n",
       "                  scale_factor_at_projection_origin: 0.933012694093\n",
       "                  earth_radius: 6371229.0\n",
       "                  _CoordinateTransformType: Projection\n",
       "                  _CoordinateAxes: x y \n",
       "              unlimited dimensions: \n",
       "              current shape = (64,)\n",
       "              filling off), ('SFC_T', <class 'netCDF4._netCDF4.Variable'>\n",
       "              int8 SFC_T(time, y, x)\n",
       "                  _Unsigned: true\n",
       "                  long_name: Surface Skin Temperature\n",
       "                  units: N/A\n",
       "                  scale_factor: 1\n",
       "                  add_offset: 0\n",
       "                  _CoordinateAxes: x y time\n",
       "              unlimited dimensions: \n",
       "              current shape = (1, 1008, 1536)\n",
       "              filling off)])"
      ]
     },
     "execution_count": 11,
     "metadata": {},
     "output_type": "execute_result"
    }
   ],
   "source": [
    "#!/usr/bin/env python\n",
    "# Read data from an opendap server\n",
    "import netCDF4\n",
    "# specify an url, - derived product\n",
    "url = supernat_latest\n",
    "# create a dataset object\n",
    "dataset = netCDF4.Dataset(url)\n",
    " \n",
    "# print the variables\n",
    "dataset.variables"
   ]
  },
  {
   "cell_type": "code",
   "execution_count": 13,
   "metadata": {},
   "outputs": [
    {
     "name": "stdout",
     "output_type": "stream",
     "text": [
      "[[[0 0 0 ..., 0 0 0]\n",
      "  [0 0 0 ..., 0 0 0]\n",
      "  [0 0 0 ..., 0 0 0]\n",
      "  ..., \n",
      "  [0 0 0 ..., 0 0 0]\n",
      "  [0 0 0 ..., 0 0 0]\n",
      "  [0 0 0 ..., 0 0 0]]]\n"
     ]
    }
   ],
   "source": [
    "#SFC_T - Surface Temperature\n",
    "print(dataset.variables[\"SFC_T\"][:])"
   ]
  },
  {
   "cell_type": "code",
   "execution_count": 20,
   "metadata": {},
   "outputs": [
    {
     "data": {
      "text/plain": [
       "'km'"
      ]
     },
     "execution_count": 20,
     "metadata": {},
     "output_type": "execute_result"
    }
   ],
   "source": [
    "x = dataset.variables[\"x\"]\n",
    "#variable long name\n",
    "x.getncattr(\"long_name\")\n",
    "# variable units\n",
    "x.getncattr(\"units\")\n",
    "\n",
    "y = dataset.variables[\"y\"]\n",
    "#variable long name\n",
    "y.getncattr(\"long_name\")\n",
    "# variable units\n",
    "y.getncattr(\"units\")"
   ]
  },
  {
   "cell_type": "code",
   "execution_count": 23,
   "metadata": {},
   "outputs": [
    {
     "data": {
      "text/plain": [
       "1008"
      ]
     },
     "execution_count": 23,
     "metadata": {},
     "output_type": "execute_result"
    }
   ],
   "source": [
    "# get dimensions of x's and y's\n",
    "\n",
    "nx = len(x)\n",
    "nx\n",
    "ny = len(y)\n",
    "ny"
   ]
  },
  {
   "cell_type": "code",
   "execution_count": 24,
   "metadata": {},
   "outputs": [
    {
     "data": {
      "text/plain": [
       "<class 'netCDF4._netCDF4.Variable'>\n",
       "float64 time(time)\n",
       "    long_name: time since base date\n",
       "    _CoordinateAxisType: Time\n",
       "    units: msecs since 1970-01-01T00:00:00Z\n",
       "unlimited dimensions: \n",
       "current shape = (1,)\n",
       "filling off"
      ]
     },
     "execution_count": 24,
     "metadata": {},
     "output_type": "execute_result"
    }
   ],
   "source": [
    "#get time\n",
    "# get time\n",
    "time = dataset.variables[\"time\"]\n",
    "time"
   ]
  },
  {
   "cell_type": "code",
   "execution_count": 25,
   "metadata": {},
   "outputs": [
    {
     "data": {
      "text/plain": [
       "'msecs since 1970-01-01T00:00:00Z'"
      ]
     },
     "execution_count": 25,
     "metadata": {},
     "output_type": "execute_result"
    }
   ],
   "source": [
    "# variable units\n",
    "time.getncattr(\"units\")"
   ]
  },
  {
   "cell_type": "code",
   "execution_count": 26,
   "metadata": {},
   "outputs": [
    {
     "data": {
      "text/plain": [
       "1"
      ]
     },
     "execution_count": 26,
     "metadata": {},
     "output_type": "execute_result"
    }
   ],
   "source": [
    "len(time)"
   ]
  },
  {
   "cell_type": "code",
   "execution_count": null,
   "metadata": {
    "collapsed": true
   },
   "outputs": [],
   "source": [
    "#only one timestamp as its a snapshot"
   ]
  },
  {
   "cell_type": "code",
   "execution_count": 29,
   "metadata": {},
   "outputs": [
    {
     "data": {
      "text/plain": [
       "1"
      ]
     },
     "execution_count": 29,
     "metadata": {},
     "output_type": "execute_result"
    }
   ],
   "source": [
    "# get surface temperature\n",
    "# SFC_T\n",
    "sfct_array = dataset.variables[\"SFC_T\"]\n",
    "#variable long name\n",
    "sfct_array.getncattr(\"long_name\")\n",
    "# variable units\n",
    "sfct_array.getncattr(\"units\")\n",
    "len(sfct_array)"
   ]
  },
  {
   "cell_type": "code",
   "execution_count": null,
   "metadata": {
    "collapsed": true
   },
   "outputs": [],
   "source": []
  }
 ],
 "metadata": {
  "kernelspec": {
   "display_name": "Python 3",
   "language": "python",
   "name": "python3"
  },
  "language_info": {
   "codemirror_mode": {
    "name": "ipython",
    "version": 3
   },
   "file_extension": ".py",
   "mimetype": "text/x-python",
   "name": "python",
   "nbconvert_exporter": "python",
   "pygments_lexer": "ipython3",
   "version": "3.6.0"
  }
 },
 "nbformat": 4,
 "nbformat_minor": 2
}
