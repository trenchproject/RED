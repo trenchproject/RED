{
 "cells": [
  {
   "cell_type": "code",
   "execution_count": 1,
   "metadata": {
    "collapsed": true
   },
   "outputs": [],
   "source": [
    "#get the latest set of images from UCAR\n",
    "#Latest can be found at the catalog file\n",
    "#cat = TDSCatalog('http://thredds.ucar.edu/thredds/catalog/satellite/SFC-T/SUPER-NATIONAL_1km/current/catalog.xml')"
   ]
  },
  {
   "cell_type": "code",
   "execution_count": 2,
   "metadata": {
    "collapsed": true
   },
   "outputs": [],
   "source": [
    "#%%python3\n",
    "# Magic not working"
   ]
  },
  {
   "cell_type": "code",
   "execution_count": 5,
   "metadata": {
    "collapsed": true
   },
   "outputs": [],
   "source": [
    "#link to the latest satellite imagery\n",
    "latest <-'http://thredds.ucar.edu/thredds/dodsC/satellite/SFC-T/SUPER-NATIONAL_1km/current/SUPER-NATIONAL_1km_SFC-T_20170825_1900.gini'\n"
   ]
  },
  {
   "cell_type": "code",
   "execution_count": 6,
   "metadata": {},
   "outputs": [
    {
     "data": {
      "text/html": [
       "'http://thredds.ucar.edu/thredds/dodsC/satellite/SFC-T/SUPER-NATIONAL_1km/current/SUPER-NATIONAL_1km_SFC-T_20170825_1900.gini'"
      ],
      "text/latex": [
       "'http://thredds.ucar.edu/thredds/dodsC/satellite/SFC-T/SUPER-NATIONAL\\_1km/current/SUPER-NATIONAL\\_1km\\_SFC-T\\_20170825\\_1900.gini'"
      ],
      "text/markdown": [
       "'http://thredds.ucar.edu/thredds/dodsC/satellite/SFC-T/SUPER-NATIONAL_1km/current/SUPER-NATIONAL_1km_SFC-T_20170825_1900.gini'"
      ],
      "text/plain": [
       "[1] \"http://thredds.ucar.edu/thredds/dodsC/satellite/SFC-T/SUPER-NATIONAL_1km/current/SUPER-NATIONAL_1km_SFC-T_20170825_1900.gini\""
      ]
     },
     "metadata": {},
     "output_type": "display_data"
    }
   ],
   "source": [
    "latest"
   ]
  },
  {
   "cell_type": "code",
   "execution_count": 7,
   "metadata": {
    "collapsed": true
   },
   "outputs": [],
   "source": [
    "#read the GINI as netCDF file\n",
    "# load the ncdf4 package\n",
    "library(ncdf4)"
   ]
  },
  {
   "cell_type": "code",
   "execution_count": 8,
   "metadata": {},
   "outputs": [
    {
     "name": "stdout",
     "output_type": "stream",
     "text": [
      "File http://thredds.ucar.edu/thredds/dodsC/satellite/SFC-T/SUPER-NATIONAL_1km/current/SUPER-NATIONAL_1km_SFC-T_20170825_1900.gini (NC_FORMAT_CLASSIC):\n",
      "\n",
      "     2 variables (excluding dimension variables):\n",
      "        char Stereographic[maxStrlen64]   \n",
      "            grid_mapping_name: stereographic\n",
      "            longitude_of_projection_origin: -105\n",
      "            latitude_of_projection_origin: 90\n",
      "            scale_factor_at_projection_origin: 0.93301269409307\n",
      "            earth_radius: 6371229\n",
      "            _CoordinateTransformType: Projection\n",
      "            _CoordinateAxes: x y \n",
      "        byte SFC_T[x,y,time]   \n",
      "            _Unsigned: true\n",
      "            long_name: Surface Skin Temperature\n",
      "            units: N/A\n",
      "            scale_factor: 1\n",
      "            add_offset: 0\n",
      "            _CoordinateAxes: x y time\n",
      "\n",
      "     4 dimensions:\n",
      "        maxStrlen64  Size:64\n",
      "        time  Size:1\n",
      "            long_name: time since base date\n",
      "            _CoordinateAxisType: Time\n",
      "            units: msecs since 1970-01-01T00:00:00Z\n",
      "        x  Size:1536\n",
      "            long_name: projection x coordinate\n",
      "            units: km\n",
      "            _CoordinateAxisType: GeoX\n",
      "        y  Size:1008\n",
      "            long_name: projection y coordinate\n",
      "            units: km\n",
      "            _CoordinateAxisType: GeoY\n",
      "\n",
      "    33 global attributes:\n",
      "        Conventions: _Coordinates\n",
      "        source_id: 1\n",
      "        entity_id: 6\n",
      "        sector_id: 9\n",
      "        phys_elem: 18\n",
      "        time_coverage_start: 2017-08-25T19:00:00\n",
      "        time_coverage_end: 2017-08-25T19:00:00\n",
      "        ProjIndex: 5\n",
      "        ProjName: POLARSTEREOGRAPHIC\n",
      "        NX: 1536\n",
      "        NY: 1008\n",
      "        Lov: -105\n",
      "        DxKm: 7.9465\n",
      "        DyKm: 7.9465\n",
      "        ProjCenter: 1\n",
      "        Latin: 0\n",
      "        title: Composite\n",
      "        summary: Sounder Based Derived Surface Skin Temperature\n",
      "        id: Supernational\n",
      "        keywords_vocabulary: SFC_T\n",
      "        cdm_data_type: GRID\n",
      "        featureType: GRID\n",
      "        standard_name_vocabulary: Surface Skin Temperature\n",
      "        creator_name: UNIDATA\n",
      "        creator_url: http://www.unidata.ucar.edu/\n",
      "        naming_authority: UCAR/UCP\n",
      "        geospatial_lat_min: 7.8381\n",
      "        geospatial_lat_max: 79.7608530109653\n",
      "        geospatial_lon_min: -141.0274\n",
      "        geospatial_lon_max: -32.4176812650196\n",
      "        imageResolution: 1\n",
      "        compressionFlag: 0\n",
      "        DODS.strlen: 0\n"
     ]
    }
   ],
   "source": [
    "# open a netCDF file\n",
    "ncin <- nc_open(latest)\n",
    "print(ncin)"
   ]
  },
  {
   "cell_type": "code",
   "execution_count": 25,
   "metadata": {},
   "outputs": [
    {
     "data": {
      "text/html": [
       "1536"
      ],
      "text/latex": [
       "1536"
      ],
      "text/markdown": [
       "1536"
      ],
      "text/plain": [
       "[1] 1536"
      ]
     },
     "metadata": {},
     "output_type": "display_data"
    }
   ],
   "source": [
    "# get proj x\n",
    "x <- ncvar_get(ncin,\"x\")\n",
    "nx <- dim(x)\n",
    "head(nx)"
   ]
  },
  {
   "cell_type": "code",
   "execution_count": 26,
   "metadata": {},
   "outputs": [
    {
     "data": {
      "text/html": [
       "1008"
      ],
      "text/latex": [
       "1008"
      ],
      "text/markdown": [
       "1008"
      ],
      "text/plain": [
       "[1] 1008"
      ]
     },
     "metadata": {},
     "output_type": "display_data"
    }
   ],
   "source": [
    "# get proj y\n",
    "y <- ncvar_get(ncin,\"y\")\n",
    "ny <- dim(y)\n",
    "head(ny)"
   ]
  },
  {
   "cell_type": "code",
   "execution_count": 27,
   "metadata": {},
   "outputs": [
    {
     "name": "stdout",
     "output_type": "stream",
     "text": [
      "[1] 1536 1008\n"
     ]
    }
   ],
   "source": [
    "print(c(nx,ny))"
   ]
  },
  {
   "cell_type": "code",
   "execution_count": 28,
   "metadata": {},
   "outputs": [
    {
     "data": {
      "text/html": [
       "1503687600000"
      ],
      "text/latex": [
       "1503687600000"
      ],
      "text/markdown": [
       "1503687600000"
      ],
      "text/plain": [
       "[1] 1.503688e+12"
      ]
     },
     "metadata": {},
     "output_type": "display_data"
    }
   ],
   "source": [
    "# get time\n",
    "time <- ncvar_get(ncin,\"time\")\n",
    "time"
   ]
  },
  {
   "cell_type": "code",
   "execution_count": 29,
   "metadata": {},
   "outputs": [
    {
     "data": {
      "text/html": [
       "1"
      ],
      "text/latex": [
       "1"
      ],
      "text/markdown": [
       "1"
      ],
      "text/plain": [
       "[1] 1"
      ]
     },
     "metadata": {},
     "output_type": "display_data"
    }
   ],
   "source": [
    "tunits <- ncatt_get(ncin,\"time\",\"units\")\n",
    "nt <- dim(time)\n",
    "nt"
   ]
  },
  {
   "cell_type": "code",
   "execution_count": 30,
   "metadata": {},
   "outputs": [
    {
     "data": {
      "text/html": [
       "<ol class=list-inline>\n",
       "\t<li>1536</li>\n",
       "\t<li>1008</li>\n",
       "</ol>\n"
      ],
      "text/latex": [
       "\\begin{enumerate*}\n",
       "\\item 1536\n",
       "\\item 1008\n",
       "\\end{enumerate*}\n"
      ],
      "text/markdown": [
       "1. 1536\n",
       "2. 1008\n",
       "\n",
       "\n"
      ],
      "text/plain": [
       "[1] 1536 1008"
      ]
     },
     "metadata": {},
     "output_type": "display_data"
    }
   ],
   "source": [
    "dname <- \"SFC_T\"  # \n",
    "# get surface temperature\n",
    "tmp_array <- ncvar_get(ncin,dname)\n",
    "dlname <- ncatt_get(ncin,dname,\"long_name\")\n",
    "dunits <- ncatt_get(ncin,dname,\"units\")\n",
    "fillvalue <- ncatt_get(ncin,dname,\"_FillValue\")\n",
    "dim(tmp_array)"
   ]
  },
  {
   "cell_type": "code",
   "execution_count": 31,
   "metadata": {},
   "outputs": [
    {
     "name": "stderr",
     "output_type": "stream",
     "text": [
      "Loading required package: sp\n",
      "rgdal: version: 1.2-8, (SVN revision 663)\n",
      " Geospatial Data Abstraction Library extensions to R successfully loaded\n",
      " Loaded GDAL runtime: GDAL 1.11.3, released 2015/09/16\n",
      " Path to GDAL shared files: /usr/share/gdal/1.11\n",
      " Loaded PROJ.4 runtime: Rel. 4.9.2, 08 September 2015, [PJ_VERSION: 492]\n",
      " Path to PROJ.4 shared files: (autodetected)\n",
      " Linking to sp version: 1.2-5 \n"
     ]
    }
   ],
   "source": [
    "library(rgdal)\n",
    "\n",
    "xy <- as.data.frame(expand.grid(x,y))"
   ]
  },
  {
   "cell_type": "code",
   "execution_count": 32,
   "metadata": {
    "collapsed": true
   },
   "outputs": [],
   "source": [
    "coordinates(xy)= ~Var1 + Var2"
   ]
  },
  {
   "cell_type": "code",
   "execution_count": 33,
   "metadata": {},
   "outputs": [
    {
     "data": {
      "text/plain": [
       "SpatialPoints:\n",
       "      Var1     Var2\n",
       "1 168.5661 89.94532\n",
       "2 168.5708 89.94539\n",
       "3 168.5754 89.94546\n",
       "4 168.5801 89.94553\n",
       "5 168.5848 89.94560\n",
       "6 168.5894 89.94567\n",
       "Coordinate Reference System (CRS) arguments: +proj=longlat +datum=WGS84\n",
       "+ellps=WGS84 +towgs84=0,0,0 "
      ]
     },
     "metadata": {},
     "output_type": "display_data"
    }
   ],
   "source": [
    "proj.pol <- CRS('+proj=stere +lat_0=90 +lon_0=-105.0 +x_0=0.0 +y_0=0.0')\n",
    "wgs <- CRS('+proj=longlat +datum=WGS84')\n",
    "proj4string(xy) <- proj.pol\n",
    "awgs <- spTransform(xy, wgs)\n",
    "head(awgs)"
   ]
  },
  {
   "cell_type": "code",
   "execution_count": 34,
   "metadata": {},
   "outputs": [
    {
     "data": {
      "text/plain": [
       "Object of class SpatialPoints\n",
       "Coordinates:\n",
       "            min      max\n",
       "Var1 -179.99987 179.9999\n",
       "Var2   89.90718  89.9966\n",
       "Is projected: FALSE \n",
       "proj4string :\n",
       "[+proj=longlat +datum=WGS84 +ellps=WGS84 +towgs84=0,0,0]\n",
       "Number of points: 1548288"
      ]
     },
     "metadata": {},
     "output_type": "display_data"
    }
   ],
   "source": [
    "summary(awgs)"
   ]
  },
  {
   "cell_type": "code",
   "execution_count": 35,
   "metadata": {},
   "outputs": [
    {
     "name": "stderr",
     "output_type": "stream",
     "text": [
      "Loading required package: ggplot2\n",
      "Map from URL : http://maps.googleapis.com/maps/api/staticmap?center=89.951888,1.9e-05&zoom=13&size=640x640&scale=2&maptype=terrain&language=en-EN&sensor=false\n"
     ]
    }
   ],
   "source": [
    "# quick ma\n",
    "library(ggmap)    # loads ggplot2 as well\n",
    "map <- get_map(location=rowMeans(bbox(awgs)), zoom=13)   # get Google map"
   ]
  },
  {
   "cell_type": "code",
   "execution_count": 36,
   "metadata": {},
   "outputs": [
    {
     "name": "stdout",
     "output_type": "stream",
     "text": [
      "Formal class 'SpatialPoints' [package \"sp\"] with 3 slots\n",
      "  ..@ coords     : num [1:1548288, 1:2] 169 169 169 169 169 ...\n",
      "  .. ..- attr(*, \"dimnames\")=List of 2\n",
      "  .. .. ..$ : chr [1:1548288] \"1\" \"2\" \"3\" \"4\" ...\n",
      "  .. .. ..$ : chr [1:2] \"Var1\" \"Var2\"\n",
      "  ..@ bbox       : num [1:2, 1:2] -180 89.9 180 90\n",
      "  .. ..- attr(*, \"dimnames\")=List of 2\n",
      "  .. .. ..$ : chr [1:2] \"Var1\" \"Var2\"\n",
      "  .. .. ..$ : chr [1:2] \"min\" \"max\"\n",
      "  ..@ proj4string:Formal class 'CRS' [package \"sp\"] with 1 slot\n",
      "  .. .. ..@ projargs: chr \"+proj=longlat +datum=WGS84 +ellps=WGS84 +towgs84=0,0,0\"\n"
     ]
    }
   ],
   "source": [
    "str(awgs)"
   ]
  },
  {
   "cell_type": "code",
   "execution_count": 37,
   "metadata": {},
   "outputs": [
    {
     "data": {
      "text/html": [
       "89.907510685054"
      ],
      "text/latex": [
       "89.907510685054"
      ],
      "text/markdown": [
       "89.907510685054"
      ],
      "text/plain": [
       "[1] 89.90751"
      ]
     },
     "metadata": {},
     "output_type": "display_data"
    }
   ],
   "source": [
    "awgs[1548280]@coords[2]"
   ]
  },
  {
   "cell_type": "code",
   "execution_count": 38,
   "metadata": {},
   "outputs": [
    {
     "data": {
      "text/html": [
       "0"
      ],
      "text/latex": [
       "0"
      ],
      "text/markdown": [
       "0"
      ],
      "text/plain": [
       "[1] 0"
      ]
     },
     "metadata": {},
     "output_type": "display_data"
    }
   ],
   "source": [
    "tmp_array[1,200]"
   ]
  },
  {
   "cell_type": "code",
   "execution_count": 39,
   "metadata": {},
   "outputs": [
    {
     "name": "stdout",
     "output_type": "stream",
     "text": [
      " int [1:1536, 1:1008] 0 0 0 0 0 0 0 0 0 0 ...\n"
     ]
    }
   ],
   "source": [
    "str(tmp_array)"
   ]
  },
  {
   "cell_type": "code",
   "execution_count": 40,
   "metadata": {},
   "outputs": [
    {
     "data": {
      "text/html": [
       "<table>\n",
       "<thead><tr><th scope=col>row</th><th scope=col>col</th></tr></thead>\n",
       "<tbody>\n",
       "\t<tr><td>245</td><td>209</td></tr>\n",
       "\t<tr><td>240</td><td>210</td></tr>\n",
       "\t<tr><td>244</td><td>210</td></tr>\n",
       "\t<tr><td>245</td><td>210</td></tr>\n",
       "\t<tr><td>248</td><td>210</td></tr>\n",
       "\t<tr><td>239</td><td>211</td></tr>\n",
       "\t<tr><td>240</td><td>211</td></tr>\n",
       "\t<tr><td>243</td><td>211</td></tr>\n",
       "\t<tr><td>244</td><td>211</td></tr>\n",
       "\t<tr><td>245</td><td>211</td></tr>\n",
       "\t<tr><td>247</td><td>211</td></tr>\n",
       "\t<tr><td>248</td><td>211</td></tr>\n",
       "\t<tr><td>251</td><td>211</td></tr>\n",
       "\t<tr><td>239</td><td>212</td></tr>\n",
       "\t<tr><td>240</td><td>212</td></tr>\n",
       "\t<tr><td>243</td><td>212</td></tr>\n",
       "\t<tr><td>244</td><td>212</td></tr>\n",
       "\t<tr><td>245</td><td>212</td></tr>\n",
       "\t<tr><td>246</td><td>212</td></tr>\n",
       "\t<tr><td>247</td><td>212</td></tr>\n",
       "\t<tr><td>248</td><td>212</td></tr>\n",
       "\t<tr><td>250</td><td>212</td></tr>\n",
       "\t<tr><td>251</td><td>212</td></tr>\n",
       "\t<tr><td>254</td><td>212</td></tr>\n",
       "\t<tr><td>239</td><td>213</td></tr>\n",
       "\t<tr><td>240</td><td>213</td></tr>\n",
       "\t<tr><td>241</td><td>213</td></tr>\n",
       "\t<tr><td>242</td><td>213</td></tr>\n",
       "\t<tr><td>243</td><td>213</td></tr>\n",
       "\t<tr><td>244</td><td>213</td></tr>\n",
       "\t<tr><td><U+22EE></td><td><U+22EE></td></tr>\n",
       "\t<tr><td>696</td><td>951</td></tr>\n",
       "\t<tr><td>697</td><td>951</td></tr>\n",
       "\t<tr><td>698</td><td>951</td></tr>\n",
       "\t<tr><td>699</td><td>951</td></tr>\n",
       "\t<tr><td>700</td><td>951</td></tr>\n",
       "\t<tr><td>701</td><td>951</td></tr>\n",
       "\t<tr><td>702</td><td>951</td></tr>\n",
       "\t<tr><td>703</td><td>951</td></tr>\n",
       "\t<tr><td>704</td><td>951</td></tr>\n",
       "\t<tr><td>705</td><td>951</td></tr>\n",
       "\t<tr><td>706</td><td>951</td></tr>\n",
       "\t<tr><td>707</td><td>951</td></tr>\n",
       "\t<tr><td>708</td><td>951</td></tr>\n",
       "\t<tr><td>709</td><td>951</td></tr>\n",
       "\t<tr><td>710</td><td>951</td></tr>\n",
       "\t<tr><td>711</td><td>951</td></tr>\n",
       "\t<tr><td>712</td><td>951</td></tr>\n",
       "\t<tr><td>713</td><td>951</td></tr>\n",
       "\t<tr><td>714</td><td>951</td></tr>\n",
       "\t<tr><td>715</td><td>951</td></tr>\n",
       "\t<tr><td>716</td><td>951</td></tr>\n",
       "\t<tr><td>717</td><td>951</td></tr>\n",
       "\t<tr><td>718</td><td>951</td></tr>\n",
       "\t<tr><td>719</td><td>951</td></tr>\n",
       "\t<tr><td>720</td><td>951</td></tr>\n",
       "\t<tr><td>721</td><td>951</td></tr>\n",
       "\t<tr><td>722</td><td>951</td></tr>\n",
       "\t<tr><td>723</td><td>951</td></tr>\n",
       "\t<tr><td>724</td><td>951</td></tr>\n",
       "\t<tr><td>725</td><td>951</td></tr>\n",
       "</tbody>\n",
       "</table>\n"
      ],
      "text/latex": [
       "\\begin{tabular}{ll}\n",
       " row & col\\\\\n",
       "\\hline\n",
       "\t 245 & 209\\\\\n",
       "\t 240 & 210\\\\\n",
       "\t 244 & 210\\\\\n",
       "\t 245 & 210\\\\\n",
       "\t 248 & 210\\\\\n",
       "\t 239 & 211\\\\\n",
       "\t 240 & 211\\\\\n",
       "\t 243 & 211\\\\\n",
       "\t 244 & 211\\\\\n",
       "\t 245 & 211\\\\\n",
       "\t 247 & 211\\\\\n",
       "\t 248 & 211\\\\\n",
       "\t 251 & 211\\\\\n",
       "\t 239 & 212\\\\\n",
       "\t 240 & 212\\\\\n",
       "\t 243 & 212\\\\\n",
       "\t 244 & 212\\\\\n",
       "\t 245 & 212\\\\\n",
       "\t 246 & 212\\\\\n",
       "\t 247 & 212\\\\\n",
       "\t 248 & 212\\\\\n",
       "\t 250 & 212\\\\\n",
       "\t 251 & 212\\\\\n",
       "\t 254 & 212\\\\\n",
       "\t 239 & 213\\\\\n",
       "\t 240 & 213\\\\\n",
       "\t 241 & 213\\\\\n",
       "\t 242 & 213\\\\\n",
       "\t 243 & 213\\\\\n",
       "\t 244 & 213\\\\\n",
       "\t <U+22EE> & <U+22EE>\\\\\n",
       "\t 696 & 951\\\\\n",
       "\t 697 & 951\\\\\n",
       "\t 698 & 951\\\\\n",
       "\t 699 & 951\\\\\n",
       "\t 700 & 951\\\\\n",
       "\t 701 & 951\\\\\n",
       "\t 702 & 951\\\\\n",
       "\t 703 & 951\\\\\n",
       "\t 704 & 951\\\\\n",
       "\t 705 & 951\\\\\n",
       "\t 706 & 951\\\\\n",
       "\t 707 & 951\\\\\n",
       "\t 708 & 951\\\\\n",
       "\t 709 & 951\\\\\n",
       "\t 710 & 951\\\\\n",
       "\t 711 & 951\\\\\n",
       "\t 712 & 951\\\\\n",
       "\t 713 & 951\\\\\n",
       "\t 714 & 951\\\\\n",
       "\t 715 & 951\\\\\n",
       "\t 716 & 951\\\\\n",
       "\t 717 & 951\\\\\n",
       "\t 718 & 951\\\\\n",
       "\t 719 & 951\\\\\n",
       "\t 720 & 951\\\\\n",
       "\t 721 & 951\\\\\n",
       "\t 722 & 951\\\\\n",
       "\t 723 & 951\\\\\n",
       "\t 724 & 951\\\\\n",
       "\t 725 & 951\\\\\n",
       "\\end{tabular}\n"
      ],
      "text/markdown": [
       "\n",
       "row | col | \n",
       "|---|---|---|---|---|---|---|---|---|---|---|---|---|---|---|---|---|---|---|---|---|---|---|---|---|---|---|---|---|---|---|---|---|---|---|---|---|---|---|---|---|---|---|---|---|---|---|---|---|---|---|---|---|---|---|---|---|---|---|---|---|\n",
       "| 245 | 209 | \n",
       "| 240 | 210 | \n",
       "| 244 | 210 | \n",
       "| 245 | 210 | \n",
       "| 248 | 210 | \n",
       "| 239 | 211 | \n",
       "| 240 | 211 | \n",
       "| 243 | 211 | \n",
       "| 244 | 211 | \n",
       "| 245 | 211 | \n",
       "| 247 | 211 | \n",
       "| 248 | 211 | \n",
       "| 251 | 211 | \n",
       "| 239 | 212 | \n",
       "| 240 | 212 | \n",
       "| 243 | 212 | \n",
       "| 244 | 212 | \n",
       "| 245 | 212 | \n",
       "| 246 | 212 | \n",
       "| 247 | 212 | \n",
       "| 248 | 212 | \n",
       "| 250 | 212 | \n",
       "| 251 | 212 | \n",
       "| 254 | 212 | \n",
       "| 239 | 213 | \n",
       "| 240 | 213 | \n",
       "| 241 | 213 | \n",
       "| 242 | 213 | \n",
       "| 243 | 213 | \n",
       "| 244 | 213 | \n",
       "| <U+22EE> | <U+22EE> | \n",
       "| 696 | 951 | \n",
       "| 697 | 951 | \n",
       "| 698 | 951 | \n",
       "| 699 | 951 | \n",
       "| 700 | 951 | \n",
       "| 701 | 951 | \n",
       "| 702 | 951 | \n",
       "| 703 | 951 | \n",
       "| 704 | 951 | \n",
       "| 705 | 951 | \n",
       "| 706 | 951 | \n",
       "| 707 | 951 | \n",
       "| 708 | 951 | \n",
       "| 709 | 951 | \n",
       "| 710 | 951 | \n",
       "| 711 | 951 | \n",
       "| 712 | 951 | \n",
       "| 713 | 951 | \n",
       "| 714 | 951 | \n",
       "| 715 | 951 | \n",
       "| 716 | 951 | \n",
       "| 717 | 951 | \n",
       "| 718 | 951 | \n",
       "| 719 | 951 | \n",
       "| 720 | 951 | \n",
       "| 721 | 951 | \n",
       "| 722 | 951 | \n",
       "| 723 | 951 | \n",
       "| 724 | 951 | \n",
       "| 725 | 951 | \n",
       "\n",
       "\n"
      ],
      "text/plain": [
       "      row    col   \n",
       " [1,] 245    209   \n",
       " [2,] 240    210   \n",
       " [3,] 244    210   \n",
       " [4,] 245    210   \n",
       " [5,] 248    210   \n",
       " [6,] 239    211   \n",
       " [7,] 240    211   \n",
       " [8,] 243    211   \n",
       " [9,] 244    211   \n",
       "[10,] 245    211   \n",
       "[11,] 247    211   \n",
       "[12,] 248    211   \n",
       "[13,] 251    211   \n",
       "[14,] 239    212   \n",
       "[15,] 240    212   \n",
       "[16,] 243    212   \n",
       "[17,] 244    212   \n",
       "[18,] 245    212   \n",
       "[19,] 246    212   \n",
       "[20,] 247    212   \n",
       "[21,] 248    212   \n",
       "[22,] 250    212   \n",
       "[23,] 251    212   \n",
       "[24,] 254    212   \n",
       "[25,] 239    213   \n",
       "[26,] 240    213   \n",
       "[27,] 241    213   \n",
       "[28,] 242    213   \n",
       "[29,] 243    213   \n",
       "[30,] 244    213   \n",
       "[31,] <U+22EE> <U+22EE>\n",
       "[32,] 696    951   \n",
       "[33,] 697    951   \n",
       "[34,] 698    951   \n",
       "[35,] 699    951   \n",
       "[36,] 700    951   \n",
       "[37,] 701    951   \n",
       "[38,] 702    951   \n",
       "[39,] 703    951   \n",
       "[40,] 704    951   \n",
       "[41,] 705    951   \n",
       "[42,] 706    951   \n",
       "[43,] 707    951   \n",
       "[44,] 708    951   \n",
       "[45,] 709    951   \n",
       "[46,] 710    951   \n",
       "[47,] 711    951   \n",
       "[48,] 712    951   \n",
       "[49,] 713    951   \n",
       "[50,] 714    951   \n",
       "[51,] 715    951   \n",
       "[52,] 716    951   \n",
       "[53,] 717    951   \n",
       "[54,] 718    951   \n",
       "[55,] 719    951   \n",
       "[56,] 720    951   \n",
       "[57,] 721    951   \n",
       "[58,] 722    951   \n",
       "[59,] 723    951   \n",
       "[60,] 724    951   \n",
       "[61,] 725    951   "
      ]
     },
     "metadata": {},
     "output_type": "display_data"
    }
   ],
   "source": [
    "which(tmp_array!=0,arr.ind = T)\n"
   ]
  },
  {
   "cell_type": "code",
   "execution_count": 41,
   "metadata": {},
   "outputs": [
    {
     "data": {
      "text/html": [
       "0"
      ],
      "text/latex": [
       "0"
      ],
      "text/markdown": [
       "0"
      ],
      "text/plain": [
       "[1] 0"
      ]
     },
     "metadata": {},
     "output_type": "display_data"
    }
   ],
   "source": [
    "tmp_array[696,1000]"
   ]
  },
  {
   "cell_type": "code",
   "execution_count": 3,
   "metadata": {},
   "outputs": [
    {
     "name": "stderr",
     "output_type": "stream",
     "text": [
      "Loading required package: sp\n"
     ]
    }
   ],
   "source": [
    "#library(chron)\n",
    "library(RColorBrewer)\n",
    "library(lattice)\n",
    "library(ncdf4)\n",
    "library(raster)\n"
   ]
  },
  {
   "cell_type": "code",
   "execution_count": 14,
   "metadata": {},
   "outputs": [
    {
     "ename": "ERROR",
     "evalue": "Error in .rasterObjectFromFile(x, band = band, objecttype = \"RasterLayer\", : Cannot create a RasterLayer object from this file.\n",
     "output_type": "error",
     "traceback": [
      "Error in .rasterObjectFromFile(x, band = band, objecttype = \"RasterLayer\", : Cannot create a RasterLayer object from this file.\nTraceback:\n",
      "1. raster(\"/home/ubuntu/SUPER-NATIONAL_1km_SFC-T_20170825_1900.gini\", \n .     varname = \"SFC_T\")",
      "2. raster(\"/home/ubuntu/SUPER-NATIONAL_1km_SFC-T_20170825_1900.gini\", \n .     varname = \"SFC_T\")",
      "3. .local(x, ...)",
      "4. .rasterObjectFromFile(x, band = band, objecttype = \"RasterLayer\", \n .     ...)",
      "5. stop(\"Cannot create a RasterLayer object from this file.\")"
     ]
    }
   ],
   "source": [
    "rf='http://thredds.ucar.edu/thredds/ncss/satellite/SFC-T/SUPER-NATIONAL_1km/current/SUPER-NATIONAL_1km_SFC-T_20170825_1900.gini'\n",
    "r <- raster(\"/home/ubuntu/SUPER-NATIONAL_1km_SFC-T_20170825_1900.gini\",  varname = \"SFC_T\")\n",
    "\n",
    "projection(r) <- \"+proj=longlat +datum=WGS84 +ellps=WGS84 +towgs84=0,0,0\"\n",
    "writeRaster(r, \"Tair.grd\", format='raster', overwrite=TRUE)\n",
    "plot(r)"
   ]
  },
  {
   "cell_type": "code",
   "execution_count": null,
   "metadata": {
    "collapsed": true
   },
   "outputs": [],
   "source": [
    "#dfile=\"/Users/ajijohn/git/ebm/past_1981_Tsurface.nc\"\n",
    "dfile = \"/Users/ajijohn/git/microclimRapi/vignettes/Tair_output_shade-0_height-6_interval-hourly_aggregation-avg_times-19810101-19991231_created-2017-05-18-0026.nc\"\n",
    "\n",
    "r <- raster(dfile,  varname = \"SFC_T\")\n",
    "\n",
    "projection(r) <- \"+proj=longlat +datum=WGS84 +ellps=WGS84 +towgs84=0,0,0\"\n",
    "writeRaster(r, \"Tair.grd\", format='raster', overwrite=TRUE)\n",
    "plot(r)\n"
   ]
  }
 ],
 "metadata": {
  "kernelspec": {
   "display_name": "R",
   "language": "R",
   "name": "ir"
  },
  "language_info": {
   "codemirror_mode": "r",
   "file_extension": ".r",
   "mimetype": "text/x-r-source",
   "name": "R",
   "pygments_lexer": "r",
   "version": "3.4.0"
  }
 },
 "nbformat": 4,
 "nbformat_minor": 2
}
