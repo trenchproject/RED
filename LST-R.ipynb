{
 "cells": [
  {
   "cell_type": "code",
   "execution_count": null,
   "metadata": {
    "collapsed": true
   },
   "outputs": [],
   "source": [
    "#get the latest set of images from UCAR\n",
    "#Latest can be found at the catalog file\n",
    "#cat = TDSCatalog('http://thredds.ucar.edu/thredds/catalog/satellite/SFC-T/SUPER-NATIONAL_1km/current/catalog.xml')"
   ]
  },
  {
   "cell_type": "code",
   "execution_count": 2,
   "metadata": {},
   "outputs": [
    {
     "ename": "ERROR",
     "evalue": "Error in parse(text = x, srcfile = src): <text>:1:1: unexpected SPECIAL\n1: %%\n    ^\n",
     "output_type": "error",
     "traceback": [
      "Error in parse(text = x, srcfile = src): <text>:1:1: unexpected SPECIAL\n1: %%\n    ^\nTraceback:\n"
     ]
    }
   ],
   "source": [
    "#%%python3\n",
    "# Magic not working"
   ]
  },
  {
   "cell_type": "code",
   "execution_count": 3,
   "metadata": {
    "collapsed": true
   },
   "outputs": [],
   "source": [
    "#link to the latest satellite imagery\n",
    "latest <-'http://thredds.ucar.edu/thredds/dodsC/satellite/SFC-T/SUPER-NATIONAL_1km/current/SUPER-NATIONAL_1km_SFC-T_20170714_1800.gini'\n"
   ]
  },
  {
   "cell_type": "code",
   "execution_count": 4,
   "metadata": {},
   "outputs": [
    {
     "data": {
      "text/html": [
       "'http://thredds.ucar.edu/thredds/dodsC/satellite/SFC-T/SUPER-NATIONAL_1km/current/SUPER-NATIONAL_1km_SFC-T_20170714_1800.gini'"
      ],
      "text/latex": [
       "'http://thredds.ucar.edu/thredds/dodsC/satellite/SFC-T/SUPER-NATIONAL\\_1km/current/SUPER-NATIONAL\\_1km\\_SFC-T\\_20170714\\_1800.gini'"
      ],
      "text/markdown": [
       "'http://thredds.ucar.edu/thredds/dodsC/satellite/SFC-T/SUPER-NATIONAL_1km/current/SUPER-NATIONAL_1km_SFC-T_20170714_1800.gini'"
      ],
      "text/plain": [
       "[1] \"http://thredds.ucar.edu/thredds/dodsC/satellite/SFC-T/SUPER-NATIONAL_1km/current/SUPER-NATIONAL_1km_SFC-T_20170714_1800.gini\""
      ]
     },
     "metadata": {},
     "output_type": "display_data"
    }
   ],
   "source": [
    "latest"
   ]
  },
  {
   "cell_type": "code",
   "execution_count": 7,
   "metadata": {},
   "outputs": [],
   "source": [
    "#read the GINI as netCDF file\n",
    "# load the ncdf4 package\n",
    "library(ncdf4)"
   ]
  },
  {
   "cell_type": "code",
   "execution_count": 8,
   "metadata": {},
   "outputs": [
    {
     "name": "stdout",
     "output_type": "stream",
     "text": [
      "File http://thredds.ucar.edu/thredds/dodsC/satellite/SFC-T/SUPER-NATIONAL_1km/current/SUPER-NATIONAL_1km_SFC-T_20170714_1800.gini (NC_FORMAT_CLASSIC):\n",
      "\n",
      "     2 variables (excluding dimension variables):\n",
      "        char Stereographic[maxStrlen64]   \n",
      "            grid_mapping_name: stereographic\n",
      "            longitude_of_projection_origin: -105\n",
      "            latitude_of_projection_origin: 90\n",
      "            scale_factor_at_projection_origin: 0.93301269409307\n",
      "            earth_radius: 6371229\n",
      "            _CoordinateTransformType: Projection\n",
      "            _CoordinateAxes: x y \n",
      "        byte SFC_T[x,y,time]   \n",
      "            _Unsigned: true\n",
      "            long_name: Surface Skin Temperature\n",
      "            units: N/A\n",
      "            scale_factor: 1\n",
      "            add_offset: 0\n",
      "            _CoordinateAxes: x y time\n",
      "\n",
      "     4 dimensions:\n",
      "        maxStrlen64  Size:64\n",
      "        time  Size:1\n",
      "            long_name: time since base date\n",
      "            _CoordinateAxisType: Time\n",
      "            units: msecs since 1970-01-01T00:00:00Z\n",
      "        x  Size:1536\n",
      "            long_name: projection x coordinate\n",
      "            units: km\n",
      "            _CoordinateAxisType: GeoX\n",
      "        y  Size:1008\n",
      "            long_name: projection y coordinate\n",
      "            units: km\n",
      "            _CoordinateAxisType: GeoY\n",
      "\n",
      "    33 global attributes:\n",
      "        Conventions: _Coordinates\n",
      "        source_id: 1\n",
      "        entity_id: 6\n",
      "        sector_id: 9\n",
      "        phys_elem: 18\n",
      "        time_coverage_start: 2017-07-14T18:00:00\n",
      "        time_coverage_end: 2017-07-14T18:00:00\n",
      "        ProjIndex: 5\n",
      "        ProjName: POLARSTEREOGRAPHIC\n",
      "        NX: 1536\n",
      "        NY: 1008\n",
      "        Lov: -105\n",
      "        DxKm: 7.9465\n",
      "        DyKm: 7.9465\n",
      "        ProjCenter: 1\n",
      "        Latin: 0\n",
      "        title: Composite\n",
      "        summary: Sounder Based Derived Surface Skin Temperature\n",
      "        id: Supernational\n",
      "        keywords_vocabulary: SFC_T\n",
      "        cdm_data_type: GRID\n",
      "        featureType: GRID\n",
      "        standard_name_vocabulary: Surface Skin Temperature\n",
      "        creator_name: UNIDATA\n",
      "        creator_url: http://www.unidata.ucar.edu/\n",
      "        naming_authority: UCAR/UCP\n",
      "        geospatial_lat_min: 7.8381\n",
      "        geospatial_lat_max: 79.7608530109653\n",
      "        geospatial_lon_min: -141.0274\n",
      "        geospatial_lon_max: -32.4176812650196\n",
      "        imageResolution: 1\n",
      "        compressionFlag: 0\n",
      "        DODS.strlen: 0\n"
     ]
    }
   ],
   "source": [
    "# open a netCDF file\n",
    "ncin <- nc_open(latest)\n",
    "print(ncin)"
   ]
  },
  {
   "cell_type": "code",
   "execution_count": 9,
   "metadata": {},
   "outputs": [
    {
     "data": {
      "text/html": [
       "1536"
      ],
      "text/latex": [
       "1536"
      ],
      "text/markdown": [
       "1536"
      ],
      "text/plain": [
       "[1] 1536"
      ]
     },
     "metadata": {},
     "output_type": "display_data"
    }
   ],
   "source": [
    "# get proj x\n",
    "x <- ncvar_get(ncin,\"x\")\n",
    "nx <- dim(x)\n",
    "head(nx)"
   ]
  },
  {
   "cell_type": "code",
   "execution_count": 10,
   "metadata": {},
   "outputs": [
    {
     "data": {
      "text/html": [
       "1008"
      ],
      "text/latex": [
       "1008"
      ],
      "text/markdown": [
       "1008"
      ],
      "text/plain": [
       "[1] 1008"
      ]
     },
     "metadata": {},
     "output_type": "display_data"
    }
   ],
   "source": [
    "# get proj y\n",
    "y <- ncvar_get(ncin,\"y\")\n",
    "ny <- dim(y)\n",
    "head(ny)"
   ]
  },
  {
   "cell_type": "code",
   "execution_count": 11,
   "metadata": {},
   "outputs": [
    {
     "name": "stdout",
     "output_type": "stream",
     "text": [
      "[1] 1536 1008\n"
     ]
    }
   ],
   "source": [
    "print(c(nx,ny))"
   ]
  },
  {
   "cell_type": "code",
   "execution_count": 12,
   "metadata": {},
   "outputs": [
    {
     "data": {
      "text/html": [
       "1500055200000"
      ],
      "text/latex": [
       "1500055200000"
      ],
      "text/markdown": [
       "1500055200000"
      ],
      "text/plain": [
       "[1] 1.500055e+12"
      ]
     },
     "metadata": {},
     "output_type": "display_data"
    }
   ],
   "source": [
    "# get time\n",
    "time <- ncvar_get(ncin,\"time\")\n",
    "time"
   ]
  },
  {
   "cell_type": "code",
   "execution_count": 13,
   "metadata": {},
   "outputs": [
    {
     "data": {
      "text/html": [
       "1"
      ],
      "text/latex": [
       "1"
      ],
      "text/markdown": [
       "1"
      ],
      "text/plain": [
       "[1] 1"
      ]
     },
     "metadata": {},
     "output_type": "display_data"
    }
   ],
   "source": [
    "tunits <- ncatt_get(ncin,\"time\",\"units\")\n",
    "nt <- dim(time)\n",
    "nt"
   ]
  },
  {
   "cell_type": "code",
   "execution_count": 16,
   "metadata": {},
   "outputs": [
    {
     "data": {
      "text/html": [
       "<ol class=list-inline>\n",
       "\t<li>1536</li>\n",
       "\t<li>1008</li>\n",
       "</ol>\n"
      ],
      "text/latex": [
       "\\begin{enumerate*}\n",
       "\\item 1536\n",
       "\\item 1008\n",
       "\\end{enumerate*}\n"
      ],
      "text/markdown": [
       "1. 1536\n",
       "2. 1008\n",
       "\n",
       "\n"
      ],
      "text/plain": [
       "[1] 1536 1008"
      ]
     },
     "metadata": {},
     "output_type": "display_data"
    }
   ],
   "source": [
    "dname <- \"SFC_T\"  # \n",
    "# get surface temperature\n",
    "tmp_array <- ncvar_get(ncin,dname)\n",
    "dlname <- ncatt_get(ncin,dname,\"long_name\")\n",
    "dunits <- ncatt_get(ncin,dname,\"units\")\n",
    "fillvalue <- ncatt_get(ncin,dname,\"_FillValue\")\n",
    "dim(tmp_array)"
   ]
  },
  {
   "cell_type": "code",
   "execution_count": 18,
   "metadata": {},
   "outputs": [
    {
     "name": "stderr",
     "output_type": "stream",
     "text": [
      "Loading required package: sp\n",
      "rgdal: version: 1.2-8, (SVN revision 663)\n",
      " Geospatial Data Abstraction Library extensions to R successfully loaded\n",
      " Loaded GDAL runtime: GDAL 1.11.3, released 2015/09/16\n",
      " Path to GDAL shared files: /usr/share/gdal/1.11\n",
      " Loaded PROJ.4 runtime: Rel. 4.9.2, 08 September 2015, [PJ_VERSION: 492]\n",
      " Path to PROJ.4 shared files: (autodetected)\n",
      " Linking to sp version: 1.2-5 \n"
     ]
    }
   ],
   "source": [
    "library(rgdal)\n",
    "a<-data.frame(nx,ny)\n",
    "coordinates(a)= ~nx + ny"
   ]
  },
  {
   "cell_type": "code",
   "execution_count": 20,
   "metadata": {},
   "outputs": [],
   "source": [
    "stere <- \"+proj=stere +lat_0=90 +lon_0=-105.0 +x_0=0.0 +y_0=0.0\"\n",
    "proj4string(a)<-CRS(stere) \n",
    "z<-spTransform(a,CRS(\"+proj=longlat +datum=WGS84\")) "
   ]
  },
  {
   "cell_type": "code",
   "execution_count": 21,
   "metadata": {},
   "outputs": [
    {
     "data": {
      "text/plain": [
       "Object of class SpatialPoints\n",
       "Coordinates:\n",
       "        min      max\n",
       "nx 18.27489 18.27489\n",
       "ny 89.98355 89.98355\n",
       "Is projected: FALSE \n",
       "proj4string :\n",
       "[+proj=longlat +datum=WGS84 +ellps=WGS84 +towgs84=0,0,0]\n",
       "Number of points: 1"
      ]
     },
     "metadata": {},
     "output_type": "display_data"
    }
   ],
   "source": [
    "summary(z)"
   ]
  },
  {
   "cell_type": "code",
   "execution_count": null,
   "metadata": {
    "collapsed": true
   },
   "outputs": [],
   "source": []
  }
 ],
 "metadata": {
  "kernelspec": {
   "display_name": "R",
   "language": "R",
   "name": "ir"
  },
  "language_info": {
   "codemirror_mode": "r",
   "file_extension": ".r",
   "mimetype": "text/x-r-source",
   "name": "R",
   "pygments_lexer": "r",
   "version": "3.4.0"
  }
 },
 "nbformat": 4,
 "nbformat_minor": 2
}
