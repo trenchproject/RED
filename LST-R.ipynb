{
 "cells": [
  {
   "cell_type": "code",
   "execution_count": 1,
   "metadata": {
    "collapsed": true
   },
   "outputs": [],
   "source": [
    "#get the latest set of images from UCAR\n",
    "#Latest can be found at the catalog file\n",
    "#cat = TDSCatalog('http://thredds.ucar.edu/thredds/catalog/satellite/SFC-T/SUPER-NATIONAL_1km/current/catalog.xml')"
   ]
  },
  {
   "cell_type": "code",
   "execution_count": 2,
   "metadata": {
    "collapsed": true
   },
   "outputs": [],
   "source": [
    "#%%python3\n",
    "# Magic not working"
   ]
  },
  {
   "cell_type": "code",
   "execution_count": 3,
   "metadata": {
    "collapsed": true
   },
   "outputs": [],
   "source": [
    "#link to the latest satellite imagery\n",
    "latest <-'http://thredds.ucar.edu/thredds/dodsC/satellite/SFC-T/SUPER-NATIONAL_1km/current/SUPER-NATIONAL_1km_SFC-T_20170825_1900.gini'\n"
   ]
  },
  {
   "cell_type": "code",
   "execution_count": 4,
   "metadata": {},
   "outputs": [
    {
     "data": {
      "text/html": [
       "'http://thredds.ucar.edu/thredds/dodsC/satellite/SFC-T/SUPER-NATIONAL_1km/current/SUPER-NATIONAL_1km_SFC-T_20170825_1900.gini'"
      ],
      "text/latex": [
       "'http://thredds.ucar.edu/thredds/dodsC/satellite/SFC-T/SUPER-NATIONAL\\_1km/current/SUPER-NATIONAL\\_1km\\_SFC-T\\_20170825\\_1900.gini'"
      ],
      "text/markdown": [
       "'http://thredds.ucar.edu/thredds/dodsC/satellite/SFC-T/SUPER-NATIONAL_1km/current/SUPER-NATIONAL_1km_SFC-T_20170825_1900.gini'"
      ],
      "text/plain": [
       "[1] \"http://thredds.ucar.edu/thredds/dodsC/satellite/SFC-T/SUPER-NATIONAL_1km/current/SUPER-NATIONAL_1km_SFC-T_20170825_1900.gini\""
      ]
     },
     "metadata": {},
     "output_type": "display_data"
    }
   ],
   "source": [
    "latest"
   ]
  },
  {
   "cell_type": "code",
   "execution_count": 5,
   "metadata": {
    "collapsed": true
   },
   "outputs": [],
   "source": [
    "#read the GINI as netCDF file\n",
    "# load the ncdf4 package\n",
    "library(ncdf4)"
   ]
  },
  {
   "cell_type": "code",
   "execution_count": 6,
   "metadata": {},
   "outputs": [
    {
     "name": "stdout",
     "output_type": "stream",
     "text": [
      "File http://thredds.ucar.edu/thredds/dodsC/satellite/SFC-T/SUPER-NATIONAL_1km/current/SUPER-NATIONAL_1km_SFC-T_20170825_1900.gini (NC_FORMAT_CLASSIC):\n",
      "\n",
      "     2 variables (excluding dimension variables):\n",
      "        char Stereographic[maxStrlen64]   \n",
      "            grid_mapping_name: stereographic\n",
      "            longitude_of_projection_origin: -105\n",
      "            latitude_of_projection_origin: 90\n",
      "            scale_factor_at_projection_origin: 0.93301269409307\n",
      "            earth_radius: 6371229\n",
      "            _CoordinateTransformType: Projection\n",
      "            _CoordinateAxes: x y \n",
      "        byte SFC_T[x,y,time]   \n",
      "            _Unsigned: true\n",
      "            long_name: Surface Skin Temperature\n",
      "            units: N/A\n",
      "            scale_factor: 1\n",
      "            add_offset: 0\n",
      "            _CoordinateAxes: x y time\n",
      "\n",
      "     4 dimensions:\n",
      "        maxStrlen64  Size:64\n",
      "        time  Size:1\n",
      "            long_name: time since base date\n",
      "            _CoordinateAxisType: Time\n",
      "            units: msecs since 1970-01-01T00:00:00Z\n",
      "        x  Size:1536\n",
      "            long_name: projection x coordinate\n",
      "            units: km\n",
      "            _CoordinateAxisType: GeoX\n",
      "        y  Size:1008\n",
      "            long_name: projection y coordinate\n",
      "            units: km\n",
      "            _CoordinateAxisType: GeoY\n",
      "\n",
      "    33 global attributes:\n",
      "        Conventions: _Coordinates\n",
      "        source_id: 1\n",
      "        entity_id: 6\n",
      "        sector_id: 9\n",
      "        phys_elem: 18\n",
      "        time_coverage_start: 2017-08-25T19:00:00\n",
      "        time_coverage_end: 2017-08-25T19:00:00\n",
      "        ProjIndex: 5\n",
      "        ProjName: POLARSTEREOGRAPHIC\n",
      "        NX: 1536\n",
      "        NY: 1008\n",
      "        Lov: -105\n",
      "        DxKm: 7.9465\n",
      "        DyKm: 7.9465\n",
      "        ProjCenter: 1\n",
      "        Latin: 0\n",
      "        title: Composite\n",
      "        summary: Sounder Based Derived Surface Skin Temperature\n",
      "        id: Supernational\n",
      "        keywords_vocabulary: SFC_T\n",
      "        cdm_data_type: GRID\n",
      "        featureType: GRID\n",
      "        standard_name_vocabulary: Surface Skin Temperature\n",
      "        creator_name: UNIDATA\n",
      "        creator_url: http://www.unidata.ucar.edu/\n",
      "        naming_authority: UCAR/UCP\n",
      "        geospatial_lat_min: 7.8381\n",
      "        geospatial_lat_max: 79.7608530109653\n",
      "        geospatial_lon_min: -141.0274\n",
      "        geospatial_lon_max: -32.4176812650196\n",
      "        imageResolution: 1\n",
      "        compressionFlag: 0\n",
      "        DODS.strlen: 0\n"
     ]
    }
   ],
   "source": [
    "# open a netCDF file\n",
    "ncin <- nc_open(latest)\n",
    "print(ncin)"
   ]
  },
  {
   "cell_type": "code",
   "execution_count": 7,
   "metadata": {},
   "outputs": [
    {
     "data": {
      "text/html": [
       "1536"
      ],
      "text/latex": [
       "1536"
      ],
      "text/markdown": [
       "1536"
      ],
      "text/plain": [
       "[1] 1536"
      ]
     },
     "metadata": {},
     "output_type": "display_data"
    }
   ],
   "source": [
    "# get proj x\n",
    "x <- ncvar_get(ncin,\"x\")\n",
    "nx <- dim(x)\n",
    "head(nx)"
   ]
  },
  {
   "cell_type": "code",
   "execution_count": 8,
   "metadata": {},
   "outputs": [
    {
     "data": {
      "text/html": [
       "1008"
      ],
      "text/latex": [
       "1008"
      ],
      "text/markdown": [
       "1008"
      ],
      "text/plain": [
       "[1] 1008"
      ]
     },
     "metadata": {},
     "output_type": "display_data"
    }
   ],
   "source": [
    "# get proj y\n",
    "y <- ncvar_get(ncin,\"y\")\n",
    "ny <- dim(y)\n",
    "head(ny)"
   ]
  },
  {
   "cell_type": "code",
   "execution_count": 9,
   "metadata": {},
   "outputs": [
    {
     "name": "stdout",
     "output_type": "stream",
     "text": [
      "[1] 1536 1008\n"
     ]
    }
   ],
   "source": [
    "print(c(nx,ny))"
   ]
  },
  {
   "cell_type": "code",
   "execution_count": 10,
   "metadata": {},
   "outputs": [
    {
     "data": {
      "text/html": [
       "1503687600000"
      ],
      "text/latex": [
       "1503687600000"
      ],
      "text/markdown": [
       "1503687600000"
      ],
      "text/plain": [
       "[1] 1.503688e+12"
      ]
     },
     "metadata": {},
     "output_type": "display_data"
    }
   ],
   "source": [
    "# get time\n",
    "time <- ncvar_get(ncin,\"time\")\n",
    "time"
   ]
  },
  {
   "cell_type": "code",
   "execution_count": 11,
   "metadata": {},
   "outputs": [
    {
     "data": {
      "text/html": [
       "1"
      ],
      "text/latex": [
       "1"
      ],
      "text/markdown": [
       "1"
      ],
      "text/plain": [
       "[1] 1"
      ]
     },
     "metadata": {},
     "output_type": "display_data"
    }
   ],
   "source": [
    "tunits <- ncatt_get(ncin,\"time\",\"units\")\n",
    "nt <- dim(time)\n",
    "nt"
   ]
  },
  {
   "cell_type": "code",
   "execution_count": 12,
   "metadata": {},
   "outputs": [
    {
     "data": {
      "text/html": [
       "<ol class=list-inline>\n",
       "\t<li>1536</li>\n",
       "\t<li>1008</li>\n",
       "</ol>\n"
      ],
      "text/latex": [
       "\\begin{enumerate*}\n",
       "\\item 1536\n",
       "\\item 1008\n",
       "\\end{enumerate*}\n"
      ],
      "text/markdown": [
       "1. 1536\n",
       "2. 1008\n",
       "\n",
       "\n"
      ],
      "text/plain": [
       "[1] 1536 1008"
      ]
     },
     "metadata": {},
     "output_type": "display_data"
    }
   ],
   "source": [
    "dname <- \"SFC_T\"  # \n",
    "# get surface temperature\n",
    "tmp_array <- ncvar_get(ncin,dname)\n",
    "dlname <- ncatt_get(ncin,dname,\"long_name\")\n",
    "dunits <- ncatt_get(ncin,dname,\"units\")\n",
    "fillvalue <- ncatt_get(ncin,dname,\"_FillValue\")\n",
    "dim(tmp_array)"
   ]
  },
  {
   "cell_type": "code",
   "execution_count": 13,
   "metadata": {},
   "outputs": [
    {
     "name": "stderr",
     "output_type": "stream",
     "text": [
      "Loading required package: sp\n",
      "rgdal: version: 1.2-8, (SVN revision 663)\n",
      " Geospatial Data Abstraction Library extensions to R successfully loaded\n",
      " Loaded GDAL runtime: GDAL 1.11.3, released 2015/09/16\n",
      " Path to GDAL shared files: /usr/share/gdal/1.11\n",
      " Loaded PROJ.4 runtime: Rel. 4.9.2, 08 September 2015, [PJ_VERSION: 492]\n",
      " Path to PROJ.4 shared files: (autodetected)\n",
      " Linking to sp version: 1.2-5 \n"
     ]
    }
   ],
   "source": [
    "library(rgdal)\n",
    "\n",
    "xy <- as.data.frame(expand.grid(x,y))"
   ]
  },
  {
   "cell_type": "code",
   "execution_count": 14,
   "metadata": {
    "collapsed": true
   },
   "outputs": [],
   "source": [
    "coordinates(xy)= ~Var1 + Var2"
   ]
  },
  {
   "cell_type": "code",
   "execution_count": 15,
   "metadata": {},
   "outputs": [
    {
     "data": {
      "text/plain": [
       "SpatialPoints:\n",
       "      Var1     Var2\n",
       "1 168.5661 89.94532\n",
       "2 168.5708 89.94539\n",
       "3 168.5754 89.94546\n",
       "4 168.5801 89.94553\n",
       "5 168.5848 89.94560\n",
       "6 168.5894 89.94567\n",
       "Coordinate Reference System (CRS) arguments: +proj=longlat +datum=WGS84\n",
       "+ellps=WGS84 +towgs84=0,0,0 "
      ]
     },
     "metadata": {},
     "output_type": "display_data"
    }
   ],
   "source": [
    "proj.pol <- CRS('+proj=stere +lat_0=90 +lon_0=-105.0 +x_0=0.0 +y_0=0.0')\n",
    "wgs <- CRS('+proj=longlat +datum=WGS84')\n",
    "proj4string(xy) <- proj.pol\n",
    "awgs <- spTransform(xy, wgs)\n",
    "head(awgs)"
   ]
  },
  {
   "cell_type": "code",
   "execution_count": 16,
   "metadata": {},
   "outputs": [
    {
     "name": "stderr",
     "output_type": "stream",
     "text": [
      "Warning message in `proj4string<-`(`*tmp*`, value = <S4 object of class structure(\"CRS\", package = \"sp\")>):\n",
      "\"A new CRS was assigned to an object with an existing CRS:\n",
      "+proj=stere +lat_0=90 +lon_0=-105.0 +x_0=0.0 +y_0=0.0 +ellps=WGS84\n",
      "without reprojecting.\n",
      "For reprojection, use function spTransform\""
     ]
    },
    {
     "data": {
      "text/plain": [
       "SpatialPoints:\n",
       "      Var1     Var2\n",
       "1 168.5661 89.94507\n",
       "2 168.5708 89.94514\n",
       "3 168.5754 89.94522\n",
       "4 168.5801 89.94529\n",
       "5 168.5848 89.94536\n",
       "6 168.5894 89.94543\n",
       "Coordinate Reference System (CRS) arguments: +proj=longlat +datum=WGS84\n",
       "+ellps=WGS84 +towgs84=0,0,0 "
      ]
     },
     "metadata": {},
     "output_type": "display_data"
    }
   ],
   "source": [
    "proj.pol <- CRS('+ellps=sphere +a=6371200.0 +b=6371200.0 +proj=stere +lat_0=90 +lon_0=-105.0 +x_0=0.0 +y_0=0.0 +no_defs')\n",
    "wgs <- CRS('+proj=longlat +datum=WGS84')\n",
    "proj4string(xy) <- proj.pol\n",
    "awgs <- spTransform(xy, wgs)\n",
    "head(awgs)"
   ]
  },
  {
   "cell_type": "code",
   "execution_count": 17,
   "metadata": {},
   "outputs": [
    {
     "data": {
      "text/plain": [
       "Object of class SpatialPoints\n",
       "Coordinates:\n",
       "            min       max\n",
       "Var1 -179.99987 179.99991\n",
       "Var2   89.90676  89.99658\n",
       "Is projected: FALSE \n",
       "proj4string :\n",
       "[+proj=longlat +datum=WGS84 +ellps=WGS84 +towgs84=0,0,0]\n",
       "Number of points: 1548288"
      ]
     },
     "metadata": {},
     "output_type": "display_data"
    }
   ],
   "source": [
    "summary(awgs)"
   ]
  },
  {
   "cell_type": "code",
   "execution_count": 18,
   "metadata": {},
   "outputs": [
    {
     "data": {
      "text/html": [
       "<table>\n",
       "<thead><tr><th></th><th scope=col>Var1</th><th scope=col>Var2</th></tr></thead>\n",
       "<tbody>\n",
       "\t<tr><th scope=row>1</th><td>168.5661</td><td>89.94507</td></tr>\n",
       "\t<tr><th scope=row>2</th><td>168.5708</td><td>89.94514</td></tr>\n",
       "\t<tr><th scope=row>3</th><td>168.5754</td><td>89.94522</td></tr>\n",
       "\t<tr><th scope=row>4</th><td>168.5801</td><td>89.94529</td></tr>\n",
       "\t<tr><th scope=row>5</th><td>168.5848</td><td>89.94536</td></tr>\n",
       "\t<tr><th scope=row>6</th><td>168.5894</td><td>89.94543</td></tr>\n",
       "\t<tr><th scope=row>7</th><td>168.5941</td><td>89.94550</td></tr>\n",
       "\t<tr><th scope=row>8</th><td>168.5989</td><td>89.94557</td></tr>\n",
       "\t<tr><th scope=row>9</th><td>168.6036</td><td>89.94564</td></tr>\n",
       "\t<tr><th scope=row>10</th><td>168.6083</td><td>89.94571</td></tr>\n",
       "\t<tr><th scope=row>11</th><td>168.6131</td><td>89.94579</td></tr>\n",
       "\t<tr><th scope=row>12</th><td>168.6179</td><td>89.94586</td></tr>\n",
       "\t<tr><th scope=row>13</th><td>168.6226</td><td>89.94593</td></tr>\n",
       "\t<tr><th scope=row>14</th><td>168.6274</td><td>89.94600</td></tr>\n",
       "\t<tr><th scope=row>15</th><td>168.6322</td><td>89.94607</td></tr>\n",
       "\t<tr><th scope=row>16</th><td>168.6370</td><td>89.94614</td></tr>\n",
       "\t<tr><th scope=row>17</th><td>168.6419</td><td>89.94621</td></tr>\n",
       "\t<tr><th scope=row>18</th><td>168.6467</td><td>89.94628</td></tr>\n",
       "\t<tr><th scope=row>19</th><td>168.6516</td><td>89.94636</td></tr>\n",
       "\t<tr><th scope=row>20</th><td>168.6564</td><td>89.94643</td></tr>\n",
       "\t<tr><th scope=row>21</th><td>168.6613</td><td>89.94650</td></tr>\n",
       "\t<tr><th scope=row>22</th><td>168.6662</td><td>89.94657</td></tr>\n",
       "\t<tr><th scope=row>23</th><td>168.6711</td><td>89.94664</td></tr>\n",
       "\t<tr><th scope=row>24</th><td>168.6760</td><td>89.94671</td></tr>\n",
       "\t<tr><th scope=row>25</th><td>168.6810</td><td>89.94678</td></tr>\n",
       "\t<tr><th scope=row>26</th><td>168.6859</td><td>89.94686</td></tr>\n",
       "\t<tr><th scope=row>27</th><td>168.6909</td><td>89.94693</td></tr>\n",
       "\t<tr><th scope=row>28</th><td>168.6958</td><td>89.94700</td></tr>\n",
       "\t<tr><th scope=row>29</th><td>168.7008</td><td>89.94707</td></tr>\n",
       "\t<tr><th scope=row>30</th><td>168.7058</td><td>89.94714</td></tr>\n",
       "\t<tr><th scope=row>⋮</th><td><U+22EE></td><td><U+22EE></td></tr>\n",
       "\t<tr><th scope=row>1548259</th><td>-69.98976</td><td>89.90797 </td></tr>\n",
       "\t<tr><th scope=row>1548260</th><td>-69.95334</td><td>89.90793 </td></tr>\n",
       "\t<tr><th scope=row>1548261</th><td>-69.91695</td><td>89.90789 </td></tr>\n",
       "\t<tr><th scope=row>1548262</th><td>-69.88059</td><td>89.90784 </td></tr>\n",
       "\t<tr><th scope=row>1548263</th><td>-69.84426</td><td>89.90780 </td></tr>\n",
       "\t<tr><th scope=row>1548264</th><td>-69.80797</td><td>89.90776 </td></tr>\n",
       "\t<tr><th scope=row>1548265</th><td>-69.77171</td><td>89.90772 </td></tr>\n",
       "\t<tr><th scope=row>1548266</th><td>-69.73548</td><td>89.90768 </td></tr>\n",
       "\t<tr><th scope=row>1548267</th><td>-69.69928</td><td>89.90764 </td></tr>\n",
       "\t<tr><th scope=row>1548268</th><td>-69.66312</td><td>89.90760 </td></tr>\n",
       "\t<tr><th scope=row>1548269</th><td>-69.62699</td><td>89.90756 </td></tr>\n",
       "\t<tr><th scope=row>1548270</th><td>-69.59089</td><td>89.90751 </td></tr>\n",
       "\t<tr><th scope=row>1548271</th><td>-69.55482</td><td>89.90747 </td></tr>\n",
       "\t<tr><th scope=row>1548272</th><td>-69.51879</td><td>89.90743 </td></tr>\n",
       "\t<tr><th scope=row>1548273</th><td>-69.48278</td><td>89.90739 </td></tr>\n",
       "\t<tr><th scope=row>1548274</th><td>-69.44682</td><td>89.90735 </td></tr>\n",
       "\t<tr><th scope=row>1548275</th><td>-69.41088</td><td>89.90731 </td></tr>\n",
       "\t<tr><th scope=row>1548276</th><td>-69.37497</td><td>89.90727 </td></tr>\n",
       "\t<tr><th scope=row>1548277</th><td>-69.33910</td><td>89.90722 </td></tr>\n",
       "\t<tr><th scope=row>1548278</th><td>-69.30326</td><td>89.90718 </td></tr>\n",
       "\t<tr><th scope=row>1548279</th><td>-69.26745</td><td>89.90714 </td></tr>\n",
       "\t<tr><th scope=row>1548280</th><td>-69.23167</td><td>89.90710 </td></tr>\n",
       "\t<tr><th scope=row>1548281</th><td>-69.19593</td><td>89.90706 </td></tr>\n",
       "\t<tr><th scope=row>1548282</th><td>-69.16021</td><td>89.90701 </td></tr>\n",
       "\t<tr><th scope=row>1548283</th><td>-69.12453</td><td>89.90697 </td></tr>\n",
       "\t<tr><th scope=row>1548284</th><td>-69.08889</td><td>89.90693 </td></tr>\n",
       "\t<tr><th scope=row>1548285</th><td>-69.05327</td><td>89.90689 </td></tr>\n",
       "\t<tr><th scope=row>1548286</th><td>-69.01769</td><td>89.90685 </td></tr>\n",
       "\t<tr><th scope=row>1548287</th><td>-68.98213</td><td>89.90681 </td></tr>\n",
       "\t<tr><th scope=row>1548288</th><td>-68.94661</td><td>89.90676 </td></tr>\n",
       "</tbody>\n",
       "</table>\n"
      ],
      "text/latex": [
       "\\begin{tabular}{r|ll}\n",
       "  & Var1 & Var2\\\\\n",
       "\\hline\n",
       "\t1 & 168.5661 & 89.94507\\\\\n",
       "\t2 & 168.5708 & 89.94514\\\\\n",
       "\t3 & 168.5754 & 89.94522\\\\\n",
       "\t4 & 168.5801 & 89.94529\\\\\n",
       "\t5 & 168.5848 & 89.94536\\\\\n",
       "\t6 & 168.5894 & 89.94543\\\\\n",
       "\t7 & 168.5941 & 89.94550\\\\\n",
       "\t8 & 168.5989 & 89.94557\\\\\n",
       "\t9 & 168.6036 & 89.94564\\\\\n",
       "\t10 & 168.6083 & 89.94571\\\\\n",
       "\t11 & 168.6131 & 89.94579\\\\\n",
       "\t12 & 168.6179 & 89.94586\\\\\n",
       "\t13 & 168.6226 & 89.94593\\\\\n",
       "\t14 & 168.6274 & 89.94600\\\\\n",
       "\t15 & 168.6322 & 89.94607\\\\\n",
       "\t16 & 168.6370 & 89.94614\\\\\n",
       "\t17 & 168.6419 & 89.94621\\\\\n",
       "\t18 & 168.6467 & 89.94628\\\\\n",
       "\t19 & 168.6516 & 89.94636\\\\\n",
       "\t20 & 168.6564 & 89.94643\\\\\n",
       "\t21 & 168.6613 & 89.94650\\\\\n",
       "\t22 & 168.6662 & 89.94657\\\\\n",
       "\t23 & 168.6711 & 89.94664\\\\\n",
       "\t24 & 168.6760 & 89.94671\\\\\n",
       "\t25 & 168.6810 & 89.94678\\\\\n",
       "\t26 & 168.6859 & 89.94686\\\\\n",
       "\t27 & 168.6909 & 89.94693\\\\\n",
       "\t28 & 168.6958 & 89.94700\\\\\n",
       "\t29 & 168.7008 & 89.94707\\\\\n",
       "\t30 & 168.7058 & 89.94714\\\\\n",
       "\t⋮ & <U+22EE> & <U+22EE>\\\\\n",
       "\t1548259 & -69.98976 & 89.90797 \\\\\n",
       "\t1548260 & -69.95334 & 89.90793 \\\\\n",
       "\t1548261 & -69.91695 & 89.90789 \\\\\n",
       "\t1548262 & -69.88059 & 89.90784 \\\\\n",
       "\t1548263 & -69.84426 & 89.90780 \\\\\n",
       "\t1548264 & -69.80797 & 89.90776 \\\\\n",
       "\t1548265 & -69.77171 & 89.90772 \\\\\n",
       "\t1548266 & -69.73548 & 89.90768 \\\\\n",
       "\t1548267 & -69.69928 & 89.90764 \\\\\n",
       "\t1548268 & -69.66312 & 89.90760 \\\\\n",
       "\t1548269 & -69.62699 & 89.90756 \\\\\n",
       "\t1548270 & -69.59089 & 89.90751 \\\\\n",
       "\t1548271 & -69.55482 & 89.90747 \\\\\n",
       "\t1548272 & -69.51879 & 89.90743 \\\\\n",
       "\t1548273 & -69.48278 & 89.90739 \\\\\n",
       "\t1548274 & -69.44682 & 89.90735 \\\\\n",
       "\t1548275 & -69.41088 & 89.90731 \\\\\n",
       "\t1548276 & -69.37497 & 89.90727 \\\\\n",
       "\t1548277 & -69.33910 & 89.90722 \\\\\n",
       "\t1548278 & -69.30326 & 89.90718 \\\\\n",
       "\t1548279 & -69.26745 & 89.90714 \\\\\n",
       "\t1548280 & -69.23167 & 89.90710 \\\\\n",
       "\t1548281 & -69.19593 & 89.90706 \\\\\n",
       "\t1548282 & -69.16021 & 89.90701 \\\\\n",
       "\t1548283 & -69.12453 & 89.90697 \\\\\n",
       "\t1548284 & -69.08889 & 89.90693 \\\\\n",
       "\t1548285 & -69.05327 & 89.90689 \\\\\n",
       "\t1548286 & -69.01769 & 89.90685 \\\\\n",
       "\t1548287 & -68.98213 & 89.90681 \\\\\n",
       "\t1548288 & -68.94661 & 89.90676 \\\\\n",
       "\\end{tabular}\n"
      ],
      "text/markdown": [
       "\n",
       "| <!--/--> | Var1 | Var2 | \n",
       "|---|---|---|---|---|---|---|---|---|---|---|---|---|---|---|---|---|---|---|---|---|---|---|---|---|---|---|---|---|---|---|---|---|---|---|---|---|---|---|---|---|---|---|---|---|---|---|---|---|---|---|---|---|---|---|---|---|---|---|---|---|\n",
       "| 1 | 168.5661 | 89.94507 | \n",
       "| 2 | 168.5708 | 89.94514 | \n",
       "| 3 | 168.5754 | 89.94522 | \n",
       "| 4 | 168.5801 | 89.94529 | \n",
       "| 5 | 168.5848 | 89.94536 | \n",
       "| 6 | 168.5894 | 89.94543 | \n",
       "| 7 | 168.5941 | 89.94550 | \n",
       "| 8 | 168.5989 | 89.94557 | \n",
       "| 9 | 168.6036 | 89.94564 | \n",
       "| 10 | 168.6083 | 89.94571 | \n",
       "| 11 | 168.6131 | 89.94579 | \n",
       "| 12 | 168.6179 | 89.94586 | \n",
       "| 13 | 168.6226 | 89.94593 | \n",
       "| 14 | 168.6274 | 89.94600 | \n",
       "| 15 | 168.6322 | 89.94607 | \n",
       "| 16 | 168.6370 | 89.94614 | \n",
       "| 17 | 168.6419 | 89.94621 | \n",
       "| 18 | 168.6467 | 89.94628 | \n",
       "| 19 | 168.6516 | 89.94636 | \n",
       "| 20 | 168.6564 | 89.94643 | \n",
       "| 21 | 168.6613 | 89.94650 | \n",
       "| 22 | 168.6662 | 89.94657 | \n",
       "| 23 | 168.6711 | 89.94664 | \n",
       "| 24 | 168.6760 | 89.94671 | \n",
       "| 25 | 168.6810 | 89.94678 | \n",
       "| 26 | 168.6859 | 89.94686 | \n",
       "| 27 | 168.6909 | 89.94693 | \n",
       "| 28 | 168.6958 | 89.94700 | \n",
       "| 29 | 168.7008 | 89.94707 | \n",
       "| 30 | 168.7058 | 89.94714 | \n",
       "| ⋮ | <U+22EE> | <U+22EE> | \n",
       "| 1548259 | -69.98976 | 89.90797  | \n",
       "| 1548260 | -69.95334 | 89.90793  | \n",
       "| 1548261 | -69.91695 | 89.90789  | \n",
       "| 1548262 | -69.88059 | 89.90784  | \n",
       "| 1548263 | -69.84426 | 89.90780  | \n",
       "| 1548264 | -69.80797 | 89.90776  | \n",
       "| 1548265 | -69.77171 | 89.90772  | \n",
       "| 1548266 | -69.73548 | 89.90768  | \n",
       "| 1548267 | -69.69928 | 89.90764  | \n",
       "| 1548268 | -69.66312 | 89.90760  | \n",
       "| 1548269 | -69.62699 | 89.90756  | \n",
       "| 1548270 | -69.59089 | 89.90751  | \n",
       "| 1548271 | -69.55482 | 89.90747  | \n",
       "| 1548272 | -69.51879 | 89.90743  | \n",
       "| 1548273 | -69.48278 | 89.90739  | \n",
       "| 1548274 | -69.44682 | 89.90735  | \n",
       "| 1548275 | -69.41088 | 89.90731  | \n",
       "| 1548276 | -69.37497 | 89.90727  | \n",
       "| 1548277 | -69.33910 | 89.90722  | \n",
       "| 1548278 | -69.30326 | 89.90718  | \n",
       "| 1548279 | -69.26745 | 89.90714  | \n",
       "| 1548280 | -69.23167 | 89.90710  | \n",
       "| 1548281 | -69.19593 | 89.90706  | \n",
       "| 1548282 | -69.16021 | 89.90701  | \n",
       "| 1548283 | -69.12453 | 89.90697  | \n",
       "| 1548284 | -69.08889 | 89.90693  | \n",
       "| 1548285 | -69.05327 | 89.90689  | \n",
       "| 1548286 | -69.01769 | 89.90685  | \n",
       "| 1548287 | -68.98213 | 89.90681  | \n",
       "| 1548288 | -68.94661 | 89.90676  | \n",
       "\n",
       "\n"
      ],
      "text/plain": [
       "        Var1      Var2    \n",
       "1       168.5661  89.94507\n",
       "2       168.5708  89.94514\n",
       "3       168.5754  89.94522\n",
       "4       168.5801  89.94529\n",
       "5       168.5848  89.94536\n",
       "6       168.5894  89.94543\n",
       "7       168.5941  89.94550\n",
       "8       168.5989  89.94557\n",
       "9       168.6036  89.94564\n",
       "10      168.6083  89.94571\n",
       "11      168.6131  89.94579\n",
       "12      168.6179  89.94586\n",
       "13      168.6226  89.94593\n",
       "14      168.6274  89.94600\n",
       "15      168.6322  89.94607\n",
       "16      168.6370  89.94614\n",
       "17      168.6419  89.94621\n",
       "18      168.6467  89.94628\n",
       "19      168.6516  89.94636\n",
       "20      168.6564  89.94643\n",
       "21      168.6613  89.94650\n",
       "22      168.6662  89.94657\n",
       "23      168.6711  89.94664\n",
       "24      168.6760  89.94671\n",
       "25      168.6810  89.94678\n",
       "26      168.6859  89.94686\n",
       "27      168.6909  89.94693\n",
       "28      168.6958  89.94700\n",
       "29      168.7008  89.94707\n",
       "30      168.7058  89.94714\n",
       "<U+22EE>  <U+22EE>  <U+22EE>\n",
       "1548259 -69.98976 89.90797\n",
       "1548260 -69.95334 89.90793\n",
       "1548261 -69.91695 89.90789\n",
       "1548262 -69.88059 89.90784\n",
       "1548263 -69.84426 89.90780\n",
       "1548264 -69.80797 89.90776\n",
       "1548265 -69.77171 89.90772\n",
       "1548266 -69.73548 89.90768\n",
       "1548267 -69.69928 89.90764\n",
       "1548268 -69.66312 89.90760\n",
       "1548269 -69.62699 89.90756\n",
       "1548270 -69.59089 89.90751\n",
       "1548271 -69.55482 89.90747\n",
       "1548272 -69.51879 89.90743\n",
       "1548273 -69.48278 89.90739\n",
       "1548274 -69.44682 89.90735\n",
       "1548275 -69.41088 89.90731\n",
       "1548276 -69.37497 89.90727\n",
       "1548277 -69.33910 89.90722\n",
       "1548278 -69.30326 89.90718\n",
       "1548279 -69.26745 89.90714\n",
       "1548280 -69.23167 89.90710\n",
       "1548281 -69.19593 89.90706\n",
       "1548282 -69.16021 89.90701\n",
       "1548283 -69.12453 89.90697\n",
       "1548284 -69.08889 89.90693\n",
       "1548285 -69.05327 89.90689\n",
       "1548286 -69.01769 89.90685\n",
       "1548287 -68.98213 89.90681\n",
       "1548288 -68.94661 89.90676"
      ]
     },
     "metadata": {},
     "output_type": "display_data"
    }
   ],
   "source": [
    "coordinates(awgs)"
   ]
  },
  {
   "cell_type": "code",
   "execution_count": 19,
   "metadata": {},
   "outputs": [
    {
     "data": {
      "text/html": [
       "<table>\n",
       "<thead><tr><th></th><th scope=col>min</th><th scope=col>max</th></tr></thead>\n",
       "<tbody>\n",
       "\t<tr><th scope=row>Var1</th><td>-179.99987</td><td>179.99991 </td></tr>\n",
       "\t<tr><th scope=row>Var2</th><td>  89.90676</td><td> 89.99658 </td></tr>\n",
       "</tbody>\n",
       "</table>\n"
      ],
      "text/latex": [
       "\\begin{tabular}{r|ll}\n",
       "  & min & max\\\\\n",
       "\\hline\n",
       "\tVar1 & -179.99987 & 179.99991 \\\\\n",
       "\tVar2 &   89.90676 &  89.99658 \\\\\n",
       "\\end{tabular}\n"
      ],
      "text/markdown": [
       "\n",
       "| <!--/--> | min | max | \n",
       "|---|---|\n",
       "| Var1 | -179.99987 | 179.99991  | \n",
       "| Var2 |   89.90676 |  89.99658  | \n",
       "\n",
       "\n"
      ],
      "text/plain": [
       "     min        max      \n",
       "Var1 -179.99987 179.99991\n",
       "Var2   89.90676  89.99658"
      ]
     },
     "metadata": {},
     "output_type": "display_data"
    }
   ],
   "source": [
    "bbox(awgs)"
   ]
  },
  {
   "cell_type": "code",
   "execution_count": 20,
   "metadata": {},
   "outputs": [
    {
     "name": "stdout",
     "output_type": "stream",
     "text": [
      "OGR data source with driver: ESRI Shapefile \n",
      "Source: \".\", layer: \"cb_2016_us_county_20m\"\n",
      "with 3220 features\n",
      "It has 9 fields\n"
     ]
    },
    {
     "data": {
      "text/html": [
       "'+proj=longlat +datum=NAD83 +no_defs +ellps=GRS80 +towgs84=0,0,0'"
      ],
      "text/latex": [
       "'+proj=longlat +datum=NAD83 +no\\_defs +ellps=GRS80 +towgs84=0,0,0'"
      ],
      "text/markdown": [
       "'+proj=longlat +datum=NAD83 +no_defs +ellps=GRS80 +towgs84=0,0,0'"
      ],
      "text/plain": [
       "[1] \"+proj=longlat +datum=NAD83 +no_defs +ellps=GRS80 +towgs84=0,0,0\""
      ]
     },
     "metadata": {},
     "output_type": "display_data"
    },
    {
     "data": {
      "text/html": [
       "<table>\n",
       "<thead><tr><th></th><th scope=col>min</th><th scope=col>max</th></tr></thead>\n",
       "<tbody>\n",
       "\t<tr><th scope=row>x</th><td>-124.72584</td><td>-66.94989 </td></tr>\n",
       "\t<tr><th scope=row>y</th><td>  24.49813</td><td> 49.38436 </td></tr>\n",
       "</tbody>\n",
       "</table>\n"
      ],
      "text/latex": [
       "\\begin{tabular}{r|ll}\n",
       "  & min & max\\\\\n",
       "\\hline\n",
       "\tx & -124.72584 & -66.94989 \\\\\n",
       "\ty &   24.49813 &  49.38436 \\\\\n",
       "\\end{tabular}\n"
      ],
      "text/markdown": [
       "\n",
       "| <!--/--> | min | max | \n",
       "|---|---|\n",
       "| x | -124.72584 | -66.94989  | \n",
       "| y |   24.49813 |  49.38436  | \n",
       "\n",
       "\n"
      ],
      "text/plain": [
       "  min        max      \n",
       "x -124.72584 -66.94989\n",
       "y   24.49813  49.38436"
      ]
     },
     "metadata": {},
     "output_type": "display_data"
    },
    {
     "data": {
      "image/png": "[encoded data removed]",
      "text/plain": [
       "plot without title"
      ]
     },
     "metadata": {},
     "output_type": "display_data"
    }
   ],
   "source": [
    "library(rgdal)    \n",
    "# Download county shape file from Tiger.\n",
    "# https://www.census.gov/geo/maps-data/data/cbf/cbf_counties.html\n",
    "us.map <- readOGR(dsn=\".\", layer = \"cb_2016_us_county_20m\", stringsAsFactors = FALSE)\n",
    "# Remove Alaska(2), Hawaii(15), Puerto Rico (72), Guam (66), Virgin Islands (78), American Samoa (60)\n",
    "#  Mariana Islands (69), Micronesia (64), Marshall Islands (68), Palau (70), Minor Islands (74)\n",
    "us.map <- us.map[!us.map$STATEFP %in% c(\"02\", \"15\", \"72\", \"66\", \"78\", \"60\", \"69\",\n",
    "                                        \"64\", \"68\", \"70\", \"74\"),]\n",
    "# Make sure other outling islands are removed.\n",
    "us.map <- us.map[!us.map$STATEFP %in% c(\"81\", \"84\", \"86\", \"87\", \"89\", \"71\", \"76\",\n",
    "                                        \"95\", \"79\"),]\n",
    "proj4string(us.map) #\n",
    "bbox(us.map)\n",
    "plot(us.map)\n"
   ]
  },
  {
   "cell_type": "code",
   "execution_count": 21,
   "metadata": {},
   "outputs": [
    {
     "data": {
      "text/plain": [
       "Object of class SpatialPoints\n",
       "Coordinates:\n",
       "            min       max\n",
       "Var1 -179.99987 179.99991\n",
       "Var2   89.90676  89.99658\n",
       "Is projected: FALSE \n",
       "proj4string :\n",
       "[+proj=longlat +datum=WGS84 +ellps=WGS84 +towgs84=0,0,0]\n",
       "Number of points: 1548288"
      ]
     },
     "metadata": {},
     "output_type": "display_data"
    }
   ],
   "source": [
    "summary(awgs)"
   ]
  },
  {
   "cell_type": "code",
   "execution_count": 22,
   "metadata": {
    "collapsed": true
   },
   "outputs": [],
   "source": [
    "df_tmp <- data.frame(attr1 = LETTERS[1:10], attr2 = c(10:1))"
   ]
  },
  {
   "cell_type": "code",
   "execution_count": 23,
   "metadata": {},
   "outputs": [
    {
     "name": "stdout",
     "output_type": "stream",
     "text": [
      "'data.frame':\t10 obs. of  2 variables:\n",
      " $ attr1: Factor w/ 10 levels \"A\",\"B\",\"C\",\"D\",..: 1 2 3 4 5 6 7 8 9 10\n",
      " $ attr2: int  10 9 8 7 6 5 4 3 2 1\n"
     ]
    }
   ],
   "source": [
    "str(df_tmp)"
   ]
  },
  {
   "cell_type": "code",
   "execution_count": 24,
   "metadata": {},
   "outputs": [
    {
     "data": {
      "text/html": [
       "<table>\n",
       "<thead><tr><th scope=col>V1</th><th scope=col>V2</th><th scope=col>V3</th><th scope=col>V4</th><th scope=col>V5</th><th scope=col>V6</th><th scope=col>V7</th><th scope=col>V8</th><th scope=col>V9</th><th scope=col>V10</th><th scope=col>⋯</th><th scope=col>V999</th><th scope=col>V1000</th><th scope=col>V1001</th><th scope=col>V1002</th><th scope=col>V1003</th><th scope=col>V1004</th><th scope=col>V1005</th><th scope=col>V1006</th><th scope=col>V1007</th><th scope=col>V1008</th></tr></thead>\n",
       "<tbody>\n",
       "\t<tr><td>0       </td><td>0       </td><td>0       </td><td>0       </td><td>0       </td><td>0       </td><td>0       </td><td>0       </td><td>0       </td><td>0       </td><td><U+22EF></td><td>0       </td><td>0       </td><td>0       </td><td>0       </td><td>0       </td><td>0       </td><td>0       </td><td>0       </td><td>0       </td><td>0       </td></tr>\n",
       "\t<tr><td>0       </td><td>0       </td><td>0       </td><td>0       </td><td>0       </td><td>0       </td><td>0       </td><td>0       </td><td>0       </td><td>0       </td><td><U+22EF></td><td>0       </td><td>0       </td><td>0       </td><td>0       </td><td>0       </td><td>0       </td><td>0       </td><td>0       </td><td>0       </td><td>0       </td></tr>\n",
       "\t<tr><td>0       </td><td>0       </td><td>0       </td><td>0       </td><td>0       </td><td>0       </td><td>0       </td><td>0       </td><td>0       </td><td>0       </td><td><U+22EF></td><td>0       </td><td>0       </td><td>0       </td><td>0       </td><td>0       </td><td>0       </td><td>0       </td><td>0       </td><td>0       </td><td>0       </td></tr>\n",
       "\t<tr><td>0       </td><td>0       </td><td>0       </td><td>0       </td><td>0       </td><td>0       </td><td>0       </td><td>0       </td><td>0       </td><td>0       </td><td><U+22EF></td><td>0       </td><td>0       </td><td>0       </td><td>0       </td><td>0       </td><td>0       </td><td>0       </td><td>0       </td><td>0       </td><td>0       </td></tr>\n",
       "\t<tr><td>0       </td><td>0       </td><td>0       </td><td>0       </td><td>0       </td><td>0       </td><td>0       </td><td>0       </td><td>0       </td><td>0       </td><td><U+22EF></td><td>0       </td><td>0       </td><td>0       </td><td>0       </td><td>0       </td><td>0       </td><td>0       </td><td>0       </td><td>0       </td><td>0       </td></tr>\n",
       "\t<tr><td>0       </td><td>0       </td><td>0       </td><td>0       </td><td>0       </td><td>0       </td><td>0       </td><td>0       </td><td>0       </td><td>0       </td><td><U+22EF></td><td>0       </td><td>0       </td><td>0       </td><td>0       </td><td>0       </td><td>0       </td><td>0       </td><td>0       </td><td>0       </td><td>0       </td></tr>\n",
       "</tbody>\n",
       "</table>\n"
      ],
      "text/latex": [
       "\\begin{tabular}{r|llllllllllllllllllllllllllllllllllllllllllllllllllllllllllllllllllllllllllllllllllllllllllllllllllllllllllllllllllllllllllllllllllllllllllllllllllllllllllllllllllllllllllllllllllllllllllllllllllllllllllllllllllllllllllllllllllllllllllllllllllllllllllllllllllllllllllllllllllllllllllllllllllllllllllllllllllllllllllllllllllllllllllllllllllllllllllllllllllllllllllllllllllllllllllllllllllllllllllllllllllllllllllllllllllllllllllllllllllllllllllllllllllllllllllllllllllllllllllllllllllllllllllllllllllllllllllllllllllllllllllllllllllllllllllllllllllllllllllllllllllllllllllllllllllllllllllllllllllllllllllllllllllllllllllllllllllllllllllllllllllllllllllllllllllllllllllllllllllllllllllllllllllllllllllllllllllllllllllllllllllllllllllllllllllllllllllllllllllllllllllllllllllllllllllllllllllllllllllllllllllllllllllllllllllllllllllllllllllllllllllllllllllllllllllllllllllllllllllllllllllllllllllllllllllllllllllllllllllllllllllllllllllllllllllllllllllllllllllllllllllllllllllllllllllllllllllllllllllllllllllllllll}\n",
       " V1 & V2 & V3 & V4 & V5 & V6 & V7 & V8 & V9 & V10 & ⋯ & V999 & V1000 & V1001 & V1002 & V1003 & V1004 & V1005 & V1006 & V1007 & V1008\\\\\n",
       "\\hline\n",
       "\t 0        & 0        & 0        & 0        & 0        & 0        & 0        & 0        & 0        & 0        & <U+22EF> & 0        & 0        & 0        & 0        & 0        & 0        & 0        & 0        & 0        & 0       \\\\\n",
       "\t 0        & 0        & 0        & 0        & 0        & 0        & 0        & 0        & 0        & 0        & <U+22EF> & 0        & 0        & 0        & 0        & 0        & 0        & 0        & 0        & 0        & 0       \\\\\n",
       "\t 0        & 0        & 0        & 0        & 0        & 0        & 0        & 0        & 0        & 0        & <U+22EF> & 0        & 0        & 0        & 0        & 0        & 0        & 0        & 0        & 0        & 0       \\\\\n",
       "\t 0        & 0        & 0        & 0        & 0        & 0        & 0        & 0        & 0        & 0        & <U+22EF> & 0        & 0        & 0        & 0        & 0        & 0        & 0        & 0        & 0        & 0       \\\\\n",
       "\t 0        & 0        & 0        & 0        & 0        & 0        & 0        & 0        & 0        & 0        & <U+22EF> & 0        & 0        & 0        & 0        & 0        & 0        & 0        & 0        & 0        & 0       \\\\\n",
       "\t 0        & 0        & 0        & 0        & 0        & 0        & 0        & 0        & 0        & 0        & <U+22EF> & 0        & 0        & 0        & 0        & 0        & 0        & 0        & 0        & 0        & 0       \\\\\n",
       "\\end{tabular}\n"
      ],
      "text/markdown": [
       "\n",
       "V1 | V2 | V3 | V4 | V5 | V6 | V7 | V8 | V9 | V10 | ⋯ | V999 | V1000 | V1001 | V1002 | V1003 | V1004 | V1005 | V1006 | V1007 | V1008 | \n",
       "|---|---|---|---|---|---|\n",
       "| 0        | 0        | 0        | 0        | 0        | 0        | 0        | 0        | 0        | 0        | <U+22EF> | 0        | 0        | 0        | 0        | 0        | 0        | 0        | 0        | 0        | 0        | \n",
       "| 0        | 0        | 0        | 0        | 0        | 0        | 0        | 0        | 0        | 0        | <U+22EF> | 0        | 0        | 0        | 0        | 0        | 0        | 0        | 0        | 0        | 0        | \n",
       "| 0        | 0        | 0        | 0        | 0        | 0        | 0        | 0        | 0        | 0        | <U+22EF> | 0        | 0        | 0        | 0        | 0        | 0        | 0        | 0        | 0        | 0        | \n",
       "| 0        | 0        | 0        | 0        | 0        | 0        | 0        | 0        | 0        | 0        | <U+22EF> | 0        | 0        | 0        | 0        | 0        | 0        | 0        | 0        | 0        | 0        | \n",
       "| 0        | 0        | 0        | 0        | 0        | 0        | 0        | 0        | 0        | 0        | <U+22EF> | 0        | 0        | 0        | 0        | 0        | 0        | 0        | 0        | 0        | 0        | \n",
       "| 0        | 0        | 0        | 0        | 0        | 0        | 0        | 0        | 0        | 0        | <U+22EF> | 0        | 0        | 0        | 0        | 0        | 0        | 0        | 0        | 0        | 0        | \n",
       "\n",
       "\n"
      ],
      "text/plain": [
       "  V1 V2 V3 V4 V5 V6 V7 V8 V9 V10 <U+22EF>   V999 V1000 V1001 V1002 V1003 V1004\n",
       "1 0  0  0  0  0  0  0  0  0  0   <U+22EF> 0    0     0     0     0     0    \n",
       "2 0  0  0  0  0  0  0  0  0  0   <U+22EF> 0    0     0     0     0     0    \n",
       "3 0  0  0  0  0  0  0  0  0  0   <U+22EF> 0    0     0     0     0     0    \n",
       "4 0  0  0  0  0  0  0  0  0  0   <U+22EF> 0    0     0     0     0     0    \n",
       "5 0  0  0  0  0  0  0  0  0  0   <U+22EF> 0    0     0     0     0     0    \n",
       "6 0  0  0  0  0  0  0  0  0  0   <U+22EF> 0    0     0     0     0     0    \n",
       "  V1005 V1006 V1007 V1008\n",
       "1 0     0     0     0    \n",
       "2 0     0     0     0    \n",
       "3 0     0     0     0    \n",
       "4 0     0     0     0    \n",
       "5 0     0     0     0    \n",
       "6 0     0     0     0    "
      ]
     },
     "metadata": {},
     "output_type": "display_data"
    }
   ],
   "source": [
    "head(as.data.frame(tmp_array))\n"
   ]
  },
  {
   "cell_type": "code",
   "execution_count": 25,
   "metadata": {},
   "outputs": [
    {
     "name": "stdout",
     "output_type": "stream",
     "text": [
      " int [1:1536, 1:1008] 0 0 0 0 0 0 0 0 0 0 ...\n"
     ]
    }
   ],
   "source": [
    "str(tmp_array)"
   ]
  },
  {
   "cell_type": "code",
   "execution_count": 26,
   "metadata": {},
   "outputs": [
    {
     "data": {
      "text/html": [
       "1"
      ],
      "text/latex": [
       "1"
      ],
      "text/markdown": [
       "1"
      ],
      "text/plain": [
       "[1] 1"
      ]
     },
     "metadata": {},
     "output_type": "display_data"
    },
    {
     "data": {
      "text/html": [
       "1"
      ],
      "text/latex": [
       "1"
      ],
      "text/markdown": [
       "1"
      ],
      "text/plain": [
       "[1] 1"
      ]
     },
     "metadata": {},
     "output_type": "display_data"
    },
    {
     "data": {
      "text/html": [
       "1"
      ],
      "text/latex": [
       "1"
      ],
      "text/markdown": [
       "1"
      ],
      "text/plain": [
       "[1] 1"
      ]
     },
     "metadata": {},
     "output_type": "display_data"
    },
    {
     "data": {
      "text/html": [
       "4"
      ],
      "text/latex": [
       "4"
      ],
      "text/markdown": [
       "4"
      ],
      "text/plain": [
       "[1] 4"
      ]
     },
     "metadata": {},
     "output_type": "display_data"
    },
    {
     "data": {
      "text/html": [
       "3"
      ],
      "text/latex": [
       "3"
      ],
      "text/markdown": [
       "3"
      ],
      "text/plain": [
       "[1] 3"
      ]
     },
     "metadata": {},
     "output_type": "display_data"
    },
    {
     "data": {
      "text/html": [
       "3"
      ],
      "text/latex": [
       "3"
      ],
      "text/markdown": [
       "3"
      ],
      "text/plain": [
       "[1] 3"
      ]
     },
     "metadata": {},
     "output_type": "display_data"
    },
    {
     "data": {
      "text/html": [
       "2"
      ],
      "text/latex": [
       "2"
      ],
      "text/markdown": [
       "2"
      ],
      "text/plain": [
       "[1] 2"
      ]
     },
     "metadata": {},
     "output_type": "display_data"
    },
    {
     "data": {
      "text/html": [
       "349"
      ],
      "text/latex": [
       "349"
      ],
      "text/markdown": [
       "349"
      ],
      "text/plain": [
       "[1] 349"
      ]
     },
     "metadata": {},
     "output_type": "display_data"
    },
    {
     "name": "stdout",
     "output_type": "stream",
     "text": [
      " num [1:7, 1:2] 1 1 1 4 3 3 2 349 393 392 ...\n"
     ]
    }
   ],
   "source": [
    "example = matrix(c(1,1,1,4,3,3,2,349,393,392,459,49,32,94), ncol = 2)\n",
    "example[1,1]\n",
    "example[2,1]\n",
    "example[3,1]\n",
    "example[4,1]\n",
    "example[5,1]\n",
    "example[6,1]\n",
    "example[7,1]\n",
    "example[1,2]\n",
    "\n",
    "str(example)"
   ]
  },
  {
   "cell_type": "code",
   "execution_count": 27,
   "metadata": {},
   "outputs": [
    {
     "data": {
      "text/html": [
       "<table>\n",
       "<tbody>\n",
       "\t<tr><td>1  </td><td>349</td></tr>\n",
       "\t<tr><td>1  </td><td>393</td></tr>\n",
       "\t<tr><td>1  </td><td>392</td></tr>\n",
       "\t<tr><td>4  </td><td>459</td></tr>\n",
       "\t<tr><td>3  </td><td> 49</td></tr>\n",
       "\t<tr><td>3  </td><td> 32</td></tr>\n",
       "\t<tr><td>2  </td><td> 94</td></tr>\n",
       "</tbody>\n",
       "</table>\n"
      ],
      "text/latex": [
       "\\begin{tabular}{ll}\n",
       "\t 1   & 349\\\\\n",
       "\t 1   & 393\\\\\n",
       "\t 1   & 392\\\\\n",
       "\t 4   & 459\\\\\n",
       "\t 3   &  49\\\\\n",
       "\t 3   &  32\\\\\n",
       "\t 2   &  94\\\\\n",
       "\\end{tabular}\n"
      ],
      "text/markdown": [
       "\n",
       "| 1   | 349 | \n",
       "| 1   | 393 | \n",
       "| 1   | 392 | \n",
       "| 4   | 459 | \n",
       "| 3   |  49 | \n",
       "| 3   |  32 | \n",
       "| 2   |  94 | \n",
       "\n",
       "\n"
      ],
      "text/plain": [
       "     [,1] [,2]\n",
       "[1,] 1    349 \n",
       "[2,] 1    393 \n",
       "[3,] 1    392 \n",
       "[4,] 4    459 \n",
       "[5,] 3     49 \n",
       "[6,] 3     32 \n",
       "[7,] 2     94 "
      ]
     },
     "metadata": {},
     "output_type": "display_data"
    }
   ],
   "source": [
    "unlist(example)"
   ]
  },
  {
   "cell_type": "code",
   "execution_count": 28,
   "metadata": {},
   "outputs": [
    {
     "data": {
      "text/html": [
       "<ol class=list-inline>\n",
       "\t<li>1</li>\n",
       "\t<li>1</li>\n",
       "\t<li>1</li>\n",
       "\t<li>4</li>\n",
       "\t<li>3</li>\n",
       "\t<li>3</li>\n",
       "\t<li>2</li>\n",
       "\t<li>349</li>\n",
       "\t<li>393</li>\n",
       "\t<li>392</li>\n",
       "\t<li>459</li>\n",
       "\t<li>49</li>\n",
       "\t<li>32</li>\n",
       "\t<li>94</li>\n",
       "</ol>\n"
      ],
      "text/latex": [
       "\\begin{enumerate*}\n",
       "\\item 1\n",
       "\\item 1\n",
       "\\item 1\n",
       "\\item 4\n",
       "\\item 3\n",
       "\\item 3\n",
       "\\item 2\n",
       "\\item 349\n",
       "\\item 393\n",
       "\\item 392\n",
       "\\item 459\n",
       "\\item 49\n",
       "\\item 32\n",
       "\\item 94\n",
       "\\end{enumerate*}\n"
      ],
      "text/markdown": [
       "1. 1\n",
       "2. 1\n",
       "3. 1\n",
       "4. 4\n",
       "5. 3\n",
       "6. 3\n",
       "7. 2\n",
       "8. 349\n",
       "9. 393\n",
       "10. 392\n",
       "11. 459\n",
       "12. 49\n",
       "13. 32\n",
       "14. 94\n",
       "\n",
       "\n"
      ],
      "text/plain": [
       " [1]   1   1   1   4   3   3   2 349 393 392 459  49  32  94"
      ]
     },
     "metadata": {},
     "output_type": "display_data"
    }
   ],
   "source": [
    "as.vector(example)\n"
   ]
  },
  {
   "cell_type": "code",
   "execution_count": 29,
   "metadata": {},
   "outputs": [
    {
     "data": {
      "text/plain": [
       "Object of class SpatialPointsDataFrame\n",
       "Coordinates:\n",
       "            min       max\n",
       "Var1 -179.99987 179.99991\n",
       "Var2   89.90676  89.99658\n",
       "Is projected: FALSE \n",
       "proj4string :\n",
       "[+proj=longlat +datum=WGS84 +ellps=WGS84 +towgs84=0,0,0]\n",
       "Number of points: 1548288\n",
       "Data attributes:\n",
       "      sfct       \n",
       " Min.   :  0.00  \n",
       " 1st Qu.:  0.00  \n",
       " Median :  0.00  \n",
       " Mean   : 31.65  \n",
       " 3rd Qu.:  0.00  \n",
       " Max.   :245.00  "
      ]
     },
     "metadata": {},
     "output_type": "display_data"
    }
   ],
   "source": [
    "temp_df <- data.frame(sfct = as.vector(tmp_array))\n",
    "awgs.spdf <- SpatialPointsDataFrame(awgs, temp_df)\n",
    "summary(awgs.spdf)"
   ]
  },
  {
   "cell_type": "code",
   "execution_count": 30,
   "metadata": {},
   "outputs": [
    {
     "name": "stderr",
     "output_type": "stream",
     "text": [
      "Loading required package: ggplot2\n",
      "Map from URL : http://maps.googleapis.com/maps/api/staticmap?center=89.951673,1.9e-05&zoom=13&size=640x640&scale=2&maptype=terrain&language=en-EN&sensor=false\n"
     ]
    },
    {
     "data": {},
     "metadata": {},
     "output_type": "display_data"
    },
    {
     "data": {
      "image/png": "[encoded data removed]",
      "text/plain": [
       "plot without title"
      ]
     },
     "metadata": {},
     "output_type": "display_data"
    }
   ],
   "source": [
    "library(ggmap)    # loads ggplot2 as well\n",
    "map <- get_map(location=rowMeans(bbox(awgs.spdf)), zoom=13)   # get Google map\n",
    "ggmap(map) + \n",
    "  geom_point(data=as.data.frame(awgs.spdf), aes(x,y,fill=sfct), \n",
    "             color=\"grey70\", size=3.5, shape=21)+\n",
    "  scale_fill_gradientn(colours=rev(heat.colors(5)))"
   ]
  },
  {
   "cell_type": "code",
   "execution_count": 31,
   "metadata": {
    "collapsed": true
   },
   "outputs": [],
   "source": [
    "library(raster)"
   ]
  },
  {
   "cell_type": "code",
   "execution_count": 33,
   "metadata": {},
   "outputs": [
    {
     "name": "stderr",
     "output_type": "stream",
     "text": [
      "Map from URL : http://maps.googleapis.com/maps/api/staticmap?center=89.951673,1.9e-05&zoom=13&size=640x640&scale=2&maptype=terrain&language=en-EN&sensor=false\n"
     ]
    }
   ],
   "source": [
    "# quick ma\n",
    "library(ggmap)    # loads ggplot2 as well\n",
    "map <- get_map(location=rowMeans(bbox(awgs)), zoom=13)   # get Google map"
   ]
  },
  {
   "cell_type": "code",
   "execution_count": 34,
   "metadata": {},
   "outputs": [
    {
     "name": "stdout",
     "output_type": "stream",
     "text": [
      "Formal class 'SpatialPoints' [package \"sp\"] with 3 slots\n",
      "  ..@ coords     : num [1:1548288, 1:2] 169 169 169 169 169 ...\n",
      "  .. ..- attr(*, \"dimnames\")=List of 2\n",
      "  .. .. ..$ : chr [1:1548288] \"1\" \"2\" \"3\" \"4\" ...\n",
      "  .. .. ..$ : chr [1:2] \"Var1\" \"Var2\"\n",
      "  ..@ bbox       : num [1:2, 1:2] -180 89.9 180 90\n",
      "  .. ..- attr(*, \"dimnames\")=List of 2\n",
      "  .. .. ..$ : chr [1:2] \"Var1\" \"Var2\"\n",
      "  .. .. ..$ : chr [1:2] \"min\" \"max\"\n",
      "  ..@ proj4string:Formal class 'CRS' [package \"sp\"] with 1 slot\n",
      "  .. .. ..@ projargs: chr \"+proj=longlat +datum=WGS84 +ellps=WGS84 +towgs84=0,0,0\"\n"
     ]
    }
   ],
   "source": [
    "str(awgs)"
   ]
  },
  {
   "cell_type": "code",
   "execution_count": 35,
   "metadata": {},
   "outputs": [
    {
     "data": {
      "text/html": [
       "89.9070985020051"
      ],
      "text/latex": [
       "89.9070985020051"
      ],
      "text/markdown": [
       "89.9070985020051"
      ],
      "text/plain": [
       "[1] 89.9071"
      ]
     },
     "metadata": {},
     "output_type": "display_data"
    }
   ],
   "source": [
    "awgs[1548280]@coords[2]"
   ]
  },
  {
   "cell_type": "code",
   "execution_count": 36,
   "metadata": {},
   "outputs": [
    {
     "data": {
      "text/html": [
       "0"
      ],
      "text/latex": [
       "0"
      ],
      "text/markdown": [
       "0"
      ],
      "text/plain": [
       "[1] 0"
      ]
     },
     "metadata": {},
     "output_type": "display_data"
    }
   ],
   "source": [
    "tmp_array[1,200]"
   ]
  },
  {
   "cell_type": "code",
   "execution_count": 37,
   "metadata": {},
   "outputs": [
    {
     "name": "stdout",
     "output_type": "stream",
     "text": [
      " int [1:1536, 1:1008] 0 0 0 0 0 0 0 0 0 0 ...\n"
     ]
    }
   ],
   "source": [
    "str(tmp_array)"
   ]
  },
  {
   "cell_type": "code",
   "execution_count": 38,
   "metadata": {},
   "outputs": [
    {
     "data": {
      "text/html": [
       "<table>\n",
       "<thead><tr><th scope=col>row</th><th scope=col>col</th></tr></thead>\n",
       "<tbody>\n",
       "\t<tr><td>245</td><td>209</td></tr>\n",
       "\t<tr><td>240</td><td>210</td></tr>\n",
       "\t<tr><td>244</td><td>210</td></tr>\n",
       "\t<tr><td>245</td><td>210</td></tr>\n",
       "\t<tr><td>248</td><td>210</td></tr>\n",
       "\t<tr><td>239</td><td>211</td></tr>\n",
       "\t<tr><td>240</td><td>211</td></tr>\n",
       "\t<tr><td>243</td><td>211</td></tr>\n",
       "\t<tr><td>244</td><td>211</td></tr>\n",
       "\t<tr><td>245</td><td>211</td></tr>\n",
       "\t<tr><td>247</td><td>211</td></tr>\n",
       "\t<tr><td>248</td><td>211</td></tr>\n",
       "\t<tr><td>251</td><td>211</td></tr>\n",
       "\t<tr><td>239</td><td>212</td></tr>\n",
       "\t<tr><td>240</td><td>212</td></tr>\n",
       "\t<tr><td>243</td><td>212</td></tr>\n",
       "\t<tr><td>244</td><td>212</td></tr>\n",
       "\t<tr><td>245</td><td>212</td></tr>\n",
       "\t<tr><td>246</td><td>212</td></tr>\n",
       "\t<tr><td>247</td><td>212</td></tr>\n",
       "\t<tr><td>248</td><td>212</td></tr>\n",
       "\t<tr><td>250</td><td>212</td></tr>\n",
       "\t<tr><td>251</td><td>212</td></tr>\n",
       "\t<tr><td>254</td><td>212</td></tr>\n",
       "\t<tr><td>239</td><td>213</td></tr>\n",
       "\t<tr><td>240</td><td>213</td></tr>\n",
       "\t<tr><td>241</td><td>213</td></tr>\n",
       "\t<tr><td>242</td><td>213</td></tr>\n",
       "\t<tr><td>243</td><td>213</td></tr>\n",
       "\t<tr><td>244</td><td>213</td></tr>\n",
       "\t<tr><td><U+22EE></td><td><U+22EE></td></tr>\n",
       "\t<tr><td>696</td><td>951</td></tr>\n",
       "\t<tr><td>697</td><td>951</td></tr>\n",
       "\t<tr><td>698</td><td>951</td></tr>\n",
       "\t<tr><td>699</td><td>951</td></tr>\n",
       "\t<tr><td>700</td><td>951</td></tr>\n",
       "\t<tr><td>701</td><td>951</td></tr>\n",
       "\t<tr><td>702</td><td>951</td></tr>\n",
       "\t<tr><td>703</td><td>951</td></tr>\n",
       "\t<tr><td>704</td><td>951</td></tr>\n",
       "\t<tr><td>705</td><td>951</td></tr>\n",
       "\t<tr><td>706</td><td>951</td></tr>\n",
       "\t<tr><td>707</td><td>951</td></tr>\n",
       "\t<tr><td>708</td><td>951</td></tr>\n",
       "\t<tr><td>709</td><td>951</td></tr>\n",
       "\t<tr><td>710</td><td>951</td></tr>\n",
       "\t<tr><td>711</td><td>951</td></tr>\n",
       "\t<tr><td>712</td><td>951</td></tr>\n",
       "\t<tr><td>713</td><td>951</td></tr>\n",
       "\t<tr><td>714</td><td>951</td></tr>\n",
       "\t<tr><td>715</td><td>951</td></tr>\n",
       "\t<tr><td>716</td><td>951</td></tr>\n",
       "\t<tr><td>717</td><td>951</td></tr>\n",
       "\t<tr><td>718</td><td>951</td></tr>\n",
       "\t<tr><td>719</td><td>951</td></tr>\n",
       "\t<tr><td>720</td><td>951</td></tr>\n",
       "\t<tr><td>721</td><td>951</td></tr>\n",
       "\t<tr><td>722</td><td>951</td></tr>\n",
       "\t<tr><td>723</td><td>951</td></tr>\n",
       "\t<tr><td>724</td><td>951</td></tr>\n",
       "\t<tr><td>725</td><td>951</td></tr>\n",
       "</tbody>\n",
       "</table>\n"
      ],
      "text/latex": [
       "\\begin{tabular}{ll}\n",
       " row & col\\\\\n",
       "\\hline\n",
       "\t 245 & 209\\\\\n",
       "\t 240 & 210\\\\\n",
       "\t 244 & 210\\\\\n",
       "\t 245 & 210\\\\\n",
       "\t 248 & 210\\\\\n",
       "\t 239 & 211\\\\\n",
       "\t 240 & 211\\\\\n",
       "\t 243 & 211\\\\\n",
       "\t 244 & 211\\\\\n",
       "\t 245 & 211\\\\\n",
       "\t 247 & 211\\\\\n",
       "\t 248 & 211\\\\\n",
       "\t 251 & 211\\\\\n",
       "\t 239 & 212\\\\\n",
       "\t 240 & 212\\\\\n",
       "\t 243 & 212\\\\\n",
       "\t 244 & 212\\\\\n",
       "\t 245 & 212\\\\\n",
       "\t 246 & 212\\\\\n",
       "\t 247 & 212\\\\\n",
       "\t 248 & 212\\\\\n",
       "\t 250 & 212\\\\\n",
       "\t 251 & 212\\\\\n",
       "\t 254 & 212\\\\\n",
       "\t 239 & 213\\\\\n",
       "\t 240 & 213\\\\\n",
       "\t 241 & 213\\\\\n",
       "\t 242 & 213\\\\\n",
       "\t 243 & 213\\\\\n",
       "\t 244 & 213\\\\\n",
       "\t <U+22EE> & <U+22EE>\\\\\n",
       "\t 696 & 951\\\\\n",
       "\t 697 & 951\\\\\n",
       "\t 698 & 951\\\\\n",
       "\t 699 & 951\\\\\n",
       "\t 700 & 951\\\\\n",
       "\t 701 & 951\\\\\n",
       "\t 702 & 951\\\\\n",
       "\t 703 & 951\\\\\n",
       "\t 704 & 951\\\\\n",
       "\t 705 & 951\\\\\n",
       "\t 706 & 951\\\\\n",
       "\t 707 & 951\\\\\n",
       "\t 708 & 951\\\\\n",
       "\t 709 & 951\\\\\n",
       "\t 710 & 951\\\\\n",
       "\t 711 & 951\\\\\n",
       "\t 712 & 951\\\\\n",
       "\t 713 & 951\\\\\n",
       "\t 714 & 951\\\\\n",
       "\t 715 & 951\\\\\n",
       "\t 716 & 951\\\\\n",
       "\t 717 & 951\\\\\n",
       "\t 718 & 951\\\\\n",
       "\t 719 & 951\\\\\n",
       "\t 720 & 951\\\\\n",
       "\t 721 & 951\\\\\n",
       "\t 722 & 951\\\\\n",
       "\t 723 & 951\\\\\n",
       "\t 724 & 951\\\\\n",
       "\t 725 & 951\\\\\n",
       "\\end{tabular}\n"
      ],
      "text/markdown": [
       "\n",
       "row | col | \n",
       "|---|---|---|---|---|---|---|---|---|---|---|---|---|---|---|---|---|---|---|---|---|---|---|---|---|---|---|---|---|---|---|---|---|---|---|---|---|---|---|---|---|---|---|---|---|---|---|---|---|---|---|---|---|---|---|---|---|---|---|---|---|\n",
       "| 245 | 209 | \n",
       "| 240 | 210 | \n",
       "| 244 | 210 | \n",
       "| 245 | 210 | \n",
       "| 248 | 210 | \n",
       "| 239 | 211 | \n",
       "| 240 | 211 | \n",
       "| 243 | 211 | \n",
       "| 244 | 211 | \n",
       "| 245 | 211 | \n",
       "| 247 | 211 | \n",
       "| 248 | 211 | \n",
       "| 251 | 211 | \n",
       "| 239 | 212 | \n",
       "| 240 | 212 | \n",
       "| 243 | 212 | \n",
       "| 244 | 212 | \n",
       "| 245 | 212 | \n",
       "| 246 | 212 | \n",
       "| 247 | 212 | \n",
       "| 248 | 212 | \n",
       "| 250 | 212 | \n",
       "| 251 | 212 | \n",
       "| 254 | 212 | \n",
       "| 239 | 213 | \n",
       "| 240 | 213 | \n",
       "| 241 | 213 | \n",
       "| 242 | 213 | \n",
       "| 243 | 213 | \n",
       "| 244 | 213 | \n",
       "| <U+22EE> | <U+22EE> | \n",
       "| 696 | 951 | \n",
       "| 697 | 951 | \n",
       "| 698 | 951 | \n",
       "| 699 | 951 | \n",
       "| 700 | 951 | \n",
       "| 701 | 951 | \n",
       "| 702 | 951 | \n",
       "| 703 | 951 | \n",
       "| 704 | 951 | \n",
       "| 705 | 951 | \n",
       "| 706 | 951 | \n",
       "| 707 | 951 | \n",
       "| 708 | 951 | \n",
       "| 709 | 951 | \n",
       "| 710 | 951 | \n",
       "| 711 | 951 | \n",
       "| 712 | 951 | \n",
       "| 713 | 951 | \n",
       "| 714 | 951 | \n",
       "| 715 | 951 | \n",
       "| 716 | 951 | \n",
       "| 717 | 951 | \n",
       "| 718 | 951 | \n",
       "| 719 | 951 | \n",
       "| 720 | 951 | \n",
       "| 721 | 951 | \n",
       "| 722 | 951 | \n",
       "| 723 | 951 | \n",
       "| 724 | 951 | \n",
       "| 725 | 951 | \n",
       "\n",
       "\n"
      ],
      "text/plain": [
       "      row    col   \n",
       " [1,] 245    209   \n",
       " [2,] 240    210   \n",
       " [3,] 244    210   \n",
       " [4,] 245    210   \n",
       " [5,] 248    210   \n",
       " [6,] 239    211   \n",
       " [7,] 240    211   \n",
       " [8,] 243    211   \n",
       " [9,] 244    211   \n",
       "[10,] 245    211   \n",
       "[11,] 247    211   \n",
       "[12,] 248    211   \n",
       "[13,] 251    211   \n",
       "[14,] 239    212   \n",
       "[15,] 240    212   \n",
       "[16,] 243    212   \n",
       "[17,] 244    212   \n",
       "[18,] 245    212   \n",
       "[19,] 246    212   \n",
       "[20,] 247    212   \n",
       "[21,] 248    212   \n",
       "[22,] 250    212   \n",
       "[23,] 251    212   \n",
       "[24,] 254    212   \n",
       "[25,] 239    213   \n",
       "[26,] 240    213   \n",
       "[27,] 241    213   \n",
       "[28,] 242    213   \n",
       "[29,] 243    213   \n",
       "[30,] 244    213   \n",
       "[31,] <U+22EE> <U+22EE>\n",
       "[32,] 696    951   \n",
       "[33,] 697    951   \n",
       "[34,] 698    951   \n",
       "[35,] 699    951   \n",
       "[36,] 700    951   \n",
       "[37,] 701    951   \n",
       "[38,] 702    951   \n",
       "[39,] 703    951   \n",
       "[40,] 704    951   \n",
       "[41,] 705    951   \n",
       "[42,] 706    951   \n",
       "[43,] 707    951   \n",
       "[44,] 708    951   \n",
       "[45,] 709    951   \n",
       "[46,] 710    951   \n",
       "[47,] 711    951   \n",
       "[48,] 712    951   \n",
       "[49,] 713    951   \n",
       "[50,] 714    951   \n",
       "[51,] 715    951   \n",
       "[52,] 716    951   \n",
       "[53,] 717    951   \n",
       "[54,] 718    951   \n",
       "[55,] 719    951   \n",
       "[56,] 720    951   \n",
       "[57,] 721    951   \n",
       "[58,] 722    951   \n",
       "[59,] 723    951   \n",
       "[60,] 724    951   \n",
       "[61,] 725    951   "
      ]
     },
     "metadata": {},
     "output_type": "display_data"
    }
   ],
   "source": [
    "which(tmp_array!=0,arr.ind = T)\n"
   ]
  },
  {
   "cell_type": "code",
   "execution_count": 39,
   "metadata": {},
   "outputs": [
    {
     "data": {
      "text/html": [
       "218"
      ],
      "text/latex": [
       "218"
      ],
      "text/markdown": [
       "218"
      ],
      "text/plain": [
       "[1] 218"
      ]
     },
     "metadata": {},
     "output_type": "display_data"
    }
   ],
   "source": [
    "tmp_array[245,209]"
   ]
  },
  {
   "cell_type": "code",
   "execution_count": 42,
   "metadata": {
    "collapsed": true
   },
   "outputs": [],
   "source": [
    "library(leaflet)\n",
    "library(leaflet.extras)"
   ]
  },
  {
   "cell_type": "code",
   "execution_count": 49,
   "metadata": {},
   "outputs": [
    {
     "ename": "ERROR",
     "evalue": "Error in eval(intensity[[2]], data, environment(intensity)): object 'mag' not found\n",
     "output_type": "error",
     "traceback": [
      "Error in eval(intensity[[2]], data, environment(intensity)): object 'mag' not found\nTraceback:\n",
      "1. leaflet(awgs.spdf) %>% addProviderTiles(providers$CartoDB.Positron) %>% \n .     setView(178, -20, 5) %>% addHeatmap(lng = coordinates(awgs.spdf)[, \n .     1], lat = coordinates(awgs.spdf)[, 2], intensity = ~mag, \n .     blur = 20, max = 0.05, radius = 15)",
      "2. withVisible(eval(quote(`_fseq`(`_lhs`)), env, env))",
      "3. eval(quote(`_fseq`(`_lhs`)), env, env)",
      "4. eval(quote(`_fseq`(`_lhs`)), env, env)",
      "5. `_fseq`(`_lhs`)",
      "6. freduce(value, `_function_list`)",
      "7. withVisible(function_list[[k]](value))",
      "8. function_list[[k]](value)",
      "9. addHeatmap(., lng = coordinates(awgs.spdf)[, 1], lat = coordinates(awgs.spdf)[, \n .     2], intensity = ~mag, blur = 20, max = 0.05, radius = 15)",
      "10. eval(intensity[[2]], data, environment(intensity))",
      "11. eval(intensity[[2]], data, environment(intensity))"
     ]
    }
   ],
   "source": [
    "leaflet(awgs.spdf) %>% addProviderTiles(providers$CartoDB.Positron) %>%\n",
    "  setView( 178, -20, 5 ) %>%\n",
    "  addHeatmap(lng = coordinates(awgs.spdf)[,1], lat = coordinates(awgs.spdf)[,2], intensity = ~mag,\n",
    "             blur = 20, max = 0.05, radius = 15)"
   ]
  },
  {
   "cell_type": "code",
   "execution_count": 46,
   "metadata": {},
   "outputs": [
    {
     "name": "stdout",
     "output_type": "stream",
     "text": [
      "Formal class 'SpatialPointsDataFrame' [package \"sp\"] with 5 slots\n",
      "  ..@ data       :'data.frame':\t1548288 obs. of  1 variable:\n",
      "  .. ..$ sfct: int [1:1548288] 0 0 0 0 0 0 0 0 0 0 ...\n",
      "  ..@ coords.nrs : num(0) \n",
      "  ..@ coords     : num [1:1548288, 1:2] 169 169 169 169 169 ...\n",
      "  .. ..- attr(*, \"dimnames\")=List of 2\n",
      "  .. .. ..$ : chr [1:1548288] \"1\" \"2\" \"3\" \"4\" ...\n",
      "  .. .. ..$ : chr [1:2] \"Var1\" \"Var2\"\n",
      "  ..@ bbox       : num [1:2, 1:2] -180 89.9 180 90\n",
      "  .. ..- attr(*, \"dimnames\")=List of 2\n",
      "  .. .. ..$ : chr [1:2] \"Var1\" \"Var2\"\n",
      "  .. .. ..$ : chr [1:2] \"min\" \"max\"\n",
      "  ..@ proj4string:Formal class 'CRS' [package \"sp\"] with 1 slot\n",
      "  .. .. ..@ projargs: chr \"+proj=longlat +datum=WGS84 +ellps=WGS84 +towgs84=0,0,0\"\n"
     ]
    }
   ],
   "source": [
    "str(awgs.spdf)"
   ]
  },
  {
   "cell_type": "code",
   "execution_count": 48,
   "metadata": {},
   "outputs": [
    {
     "data": {
      "text/html": [
       "<dl class=dl-horizontal>\n",
       "\t<dt>1</dt>\n",
       "\t\t<dd>168.566109435045</dd>\n",
       "\t<dt>2</dt>\n",
       "\t\t<dd>168.570752079906</dd>\n",
       "\t<dt>3</dt>\n",
       "\t\t<dd>168.575406813139</dd>\n",
       "\t<dt>4</dt>\n",
       "\t\t<dd>168.580073681955</dd>\n",
       "\t<dt>5</dt>\n",
       "\t\t<dd>168.584752733814</dd>\n",
       "\t<dt>6</dt>\n",
       "\t\t<dd>168.589444016422</dd>\n",
       "</dl>\n"
      ],
      "text/latex": [
       "\\begin{description*}\n",
       "\\item[1] 168.566109435045\n",
       "\\item[2] 168.570752079906\n",
       "\\item[3] 168.575406813139\n",
       "\\item[4] 168.580073681955\n",
       "\\item[5] 168.584752733814\n",
       "\\item[6] 168.589444016422\n",
       "\\end{description*}\n"
      ],
      "text/markdown": [
       "1\n",
       ":   168.5661094350452\n",
       ":   168.5707520799063\n",
       ":   168.5754068131394\n",
       ":   168.5800736819555\n",
       ":   168.5847527338146\n",
       ":   168.589444016422\n",
       "\n"
      ],
      "text/plain": [
       "       1        2        3        4        5        6 \n",
       "168.5661 168.5708 168.5754 168.5801 168.5848 168.5894 "
      ]
     },
     "metadata": {},
     "output_type": "display_data"
    },
    {
     "data": {
      "text/html": [
       "<dl class=dl-horizontal>\n",
       "\t<dt>1</dt>\n",
       "\t\t<dd>89.9450724387807</dd>\n",
       "\t<dt>2</dt>\n",
       "\t\t<dd>89.9451437625539</dd>\n",
       "\t<dt>3</dt>\n",
       "\t\t<dd>89.9452150859724</dd>\n",
       "\t<dt>4</dt>\n",
       "\t\t<dd>89.945286409028</dd>\n",
       "\t<dt>5</dt>\n",
       "\t\t<dd>89.9453577317194</dd>\n",
       "\t<dt>6</dt>\n",
       "\t\t<dd>89.9454290540451</dd>\n",
       "</dl>\n"
      ],
      "text/latex": [
       "\\begin{description*}\n",
       "\\item[1] 89.9450724387807\n",
       "\\item[2] 89.9451437625539\n",
       "\\item[3] 89.9452150859724\n",
       "\\item[4] 89.945286409028\n",
       "\\item[5] 89.9453577317194\n",
       "\\item[6] 89.9454290540451\n",
       "\\end{description*}\n"
      ],
      "text/markdown": [
       "1\n",
       ":   89.94507243878072\n",
       ":   89.94514376255393\n",
       ":   89.94521508597244\n",
       ":   89.9452864090285\n",
       ":   89.94535773171946\n",
       ":   89.9454290540451\n",
       "\n"
      ],
      "text/plain": [
       "       1        2        3        4        5        6 \n",
       "89.94507 89.94514 89.94522 89.94529 89.94536 89.94543 "
      ]
     },
     "metadata": {},
     "output_type": "display_data"
    }
   ],
   "source": [
    "#longitude\n",
    "head(coordinates(awgs.spdf)[,1])\n",
    "#latitude\n",
    "head(coordinates(awgs.spdf)[,2])\n",
    "#data\n",
    "head(awgs.spdf)"
   ]
  },
  {
   "cell_type": "code",
   "execution_count": null,
   "metadata": {
    "collapsed": true
   },
   "outputs": [],
   "source": []
  },
  {
   "cell_type": "code",
   "execution_count": null,
   "metadata": {
    "collapsed": true
   },
   "outputs": [],
   "source": []
  }
 ],
 "metadata": {
  "kernelspec": {
   "display_name": "R",
   "language": "R",
   "name": "ir"
  },
  "language_info": {
   "codemirror_mode": "r",
   "file_extension": ".r",
   "mimetype": "text/x-r-source",
   "name": "R",
   "pygments_lexer": "r",
   "version": "3.4.0"
  }
 },
 "nbformat": 4,
 "nbformat_minor": 2
}
