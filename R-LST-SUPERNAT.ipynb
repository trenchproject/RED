{
 "cells": [
  {
   "cell_type": "code",
   "execution_count": 1,
   "metadata": {},
   "outputs": [
    {
     "data": {
      "text/plain": [
       "OrderedDict([('time', <class 'netCDF4._netCDF4.Variable'>\n",
       "              float64 time(time)\n",
       "                  long_name: time since base date\n",
       "                  _CoordinateAxisType: Time\n",
       "                  units: msecs since 1970-01-01T00:00:00Z\n",
       "              unlimited dimensions: \n",
       "              current shape = (1,)\n",
       "              filling off), ('x', <class 'netCDF4._netCDF4.Variable'>\n",
       "              float64 x(x)\n",
       "                  long_name: projection x coordinate\n",
       "                  units: km\n",
       "                  _CoordinateAxisType: GeoX\n",
       "              unlimited dimensions: \n",
       "              current shape = (1536,)\n",
       "              filling off), ('y', <class 'netCDF4._netCDF4.Variable'>\n",
       "              float64 y(y)\n",
       "                  long_name: projection y coordinate\n",
       "                  units: km\n",
       "                  _CoordinateAxisType: GeoY\n",
       "              unlimited dimensions: \n",
       "              current shape = (1008,)\n",
       "              filling off), ('Stereographic',\n",
       "              <class 'netCDF4._netCDF4.Variable'>\n",
       "              |S1 Stereographic(maxStrlen64)\n",
       "                  grid_mapping_name: stereographic\n",
       "                  longitude_of_projection_origin: -105.0\n",
       "                  latitude_of_projection_origin: 90.0\n",
       "                  scale_factor_at_projection_origin: 0.933012694093\n",
       "                  earth_radius: 6371229.0\n",
       "                  _CoordinateTransformType: Projection\n",
       "                  _CoordinateAxes: x y \n",
       "              unlimited dimensions: \n",
       "              current shape = (64,)\n",
       "              filling off), ('SFC_T', <class 'netCDF4._netCDF4.Variable'>\n",
       "              int8 SFC_T(time, y, x)\n",
       "                  _Unsigned: true\n",
       "                  long_name: Surface Skin Temperature\n",
       "                  units: N/A\n",
       "                  scale_factor: 1\n",
       "                  add_offset: 0\n",
       "                  _CoordinateAxes: x y time\n",
       "              unlimited dimensions: \n",
       "              current shape = (1, 1008, 1536)\n",
       "              filling off)])"
      ]
     },
     "execution_count": 1,
     "metadata": {},
     "output_type": "execute_result"
    }
   ],
   "source": [
    "#!/usr/bin/env python\n",
    "# Read data from an opendap server\n",
    "import netCDF4\n",
    "# specify an url, the JARKUS dataset in this case\n",
    "url = 'http://thredds.ucar.edu/thredds/dodsC/satellite/SFC-T/SUPER-NATIONAL_1km/current/SUPER-NATIONAL_1km_SFC-T_20170412_2000.gini'\n",
    "# for local windows files, note that '\\t' defaults to the tab character in python, so use prefix r to indicate that it is a raw string.\n",
    "# create a dataset object\n",
    "dataset = netCDF4.Dataset(url)\n",
    " \n",
    "# lookup a variable\n",
    "dataset.variables"
   ]
  },
  {
   "cell_type": "code",
   "execution_count": 2,
   "metadata": {},
   "outputs": [
    {
     "name": "stdout",
     "output_type": "stream",
     "text": [
      "[[[  0   0   0 ...,   0   0   0]\n",
      "  [  0   0   0 ...,   0   0   0]\n",
      "  [  0   0   0 ...,   0   0   0]\n",
      "  ..., \n",
      "  [ 70  70  70 ...,   0   0   0]\n",
      "  [ 70  70 -49 ...,   0   0   0]\n",
      "  [ 70 -50 -49 ...,   0   0   0]]]\n"
     ]
    }
   ],
   "source": [
    "#SFC_T\n",
    "print(dataset.variables[\"SFC_T\"][:])"
   ]
  },
  {
   "cell_type": "code",
   "execution_count": 4,
   "metadata": {},
   "outputs": [
    {
     "data": {
      "text/plain": [
       "odict_keys(['time', 'x', 'y', 'Stereographic', 'SFC_T'])"
      ]
     },
     "execution_count": 4,
     "metadata": {},
     "output_type": "execute_result"
    }
   ],
   "source": [
    "dataset.variables.keys()"
   ]
  },
  {
   "cell_type": "code",
   "execution_count": 20,
   "metadata": {},
   "outputs": [
    {
     "data": {
      "text/plain": [
       "1492027200000.0"
      ]
     },
     "execution_count": 20,
     "metadata": {},
     "output_type": "execute_result"
    }
   ],
   "source": [
    "dataset.variables['time'][:][0]\n"
   ]
  },
  {
   "cell_type": "code",
   "execution_count": null,
   "metadata": {
    "collapsed": true
   },
   "outputs": [],
   "source": [
    "dataset.variables['SFC_T']"
   ]
  },
  {
   "cell_type": "code",
   "execution_count": 7,
   "metadata": {},
   "outputs": [
    {
     "name": "stdout",
     "output_type": "stream",
     "text": [
      "N/A\n",
      "('time', 'y', 'x')\n",
      "(1, 1008, 1536)\n",
      "Surface Skin Temperature\n"
     ]
    }
   ],
   "source": [
    "#check the units, shape,dimensions, \n",
    "print(st.units)\n",
    "print(st.dimensions)\n",
    "print(st.shape)\n",
    "print(st.long_name)\n"
   ]
  },
  {
   "cell_type": "code",
   "execution_count": 8,
   "metadata": {
    "collapsed": true
   },
   "outputs": [],
   "source": [
    "data = st[0,0]"
   ]
  },
  {
   "cell_type": "code",
   "execution_count": 9,
   "metadata": {},
   "outputs": [
    {
     "data": {
      "text/plain": [
       "array([0, 0, 0, ..., 0, 0, 0], dtype=int8)"
      ]
     },
     "execution_count": 9,
     "metadata": {},
     "output_type": "execute_result"
    }
   ],
   "source": [
    "data"
   ]
  },
  {
   "cell_type": "code",
   "execution_count": null,
   "metadata": {
    "collapsed": true
   },
   "outputs": [],
   "source": []
  }
 ],
 "metadata": {
  "kernelspec": {
   "display_name": "Python 3",
   "language": "python",
   "name": "python3"
  },
  "language_info": {
   "codemirror_mode": {
    "name": "ipython",
    "version": 3
   },
   "file_extension": ".py",
   "mimetype": "text/x-python",
   "name": "python",
   "nbconvert_exporter": "python",
   "pygments_lexer": "ipython3",
   "version": "3.6.0"
  }
 },
 "nbformat": 4,
 "nbformat_minor": 2
}
